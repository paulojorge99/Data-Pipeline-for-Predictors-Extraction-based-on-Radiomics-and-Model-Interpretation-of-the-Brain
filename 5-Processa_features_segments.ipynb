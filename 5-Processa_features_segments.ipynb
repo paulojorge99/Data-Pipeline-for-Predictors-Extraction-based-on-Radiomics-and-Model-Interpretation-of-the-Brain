{
 "cells": [
  {
   "cell_type": "code",
   "execution_count": 1,
   "metadata": {},
   "outputs": [],
   "source": [
    "import pandas as pd\n",
    "import numpy as np\n",
    "from numpy import loadtxt\n",
    "import matplotlib.pyplot as plt\n",
    "import seaborn as sns\n",
    "import math"
   ]
  },
  {
   "cell_type": "code",
   "execution_count": 2,
   "metadata": {},
   "outputs": [
    {
     "data": {
      "text/plain": [
       "'for i in range(len(lista)):\\n    lista[i].replace(\"\\'\\'\",\"\")\\nprint(lista)'"
      ]
     },
     "execution_count": 2,
     "metadata": {},
     "output_type": "execute_result"
    }
   ],
   "source": [
    "def subids(file):\n",
    "    file_subid=pd.read_csv(file)\n",
    "    lista=[]\n",
    "    count=0\n",
    "    for x in range(len(file_subid['paciente'])):\n",
    "        ids=file_subid['paciente'][x]\n",
    "        if ids not in lista:\n",
    "            lista.append(ids)\n",
    "            count+=1\n",
    "    return lista\n",
    "\n",
    "lista=subids(\"0-DS1_metascans.csv\")\n",
    "\n",
    "\"\"\"for i in range(len(lista)):\n",
    "    lista[i].replace(\"''\",\"\")\n",
    "print(lista)\"\"\""
   ]
  },
  {
   "cell_type": "code",
   "execution_count": 24,
   "metadata": {},
   "outputs": [],
   "source": [
    "#CONSTANTS\n",
    "#CSV=\"B.all_radiomics_hipocamp.csv\"\n",
    "CSV=\"C.all_radiomics_entorhinal.csv\"\n",
    "#CSV=\"D.all_radiomics_occipital.csv\""
   ]
  },
  {
   "cell_type": "code",
   "execution_count": 25,
   "metadata": {},
   "outputs": [
    {
     "name": "stdout",
     "output_type": "stream",
     "text": [
      "(426, 2178)\n"
     ]
    }
   ],
   "source": [
    "#see all the radiomics features\n",
    "def feature_analysis(file):\n",
    "    radiomics_features=pd.read_csv(file)\n",
    "    #radiomics_features.isna().values.sum()\n",
    "    #radiomics_features=radiomics_features.dropna()\n",
    "    cols = radiomics_features.columns\n",
    "    #print(radiomics_features.select_dtypes(include=['category']).columns.tolist())\n",
    "    #print(radiomics_features.select_dtypes(exclude=['category']).columns.tolist())\n",
    "    #num_cols = radiomics_features._get_numeric_data().columns\n",
    "    #print(list(set(cols) - set(num_cols)))\n",
    "    #columns_to_drop = ['diagnostics_Image-original_Minimum','diagnostics_Image-original_Mean','diagnostics_Image-original_Maximum']\n",
    "    #radiomics_features = radiomics_features.drop(columns_to_drop, axis = 1)\n",
    "    #print(num_cols)\n",
    "    print(radiomics_features.shape)\n",
    "    return radiomics_features\n",
    "\n",
    "radiomics_features=feature_analysis(CSV)"
   ]
  },
  {
   "cell_type": "code",
   "execution_count": 26,
   "metadata": {},
   "outputs": [
    {
     "name": "stdout",
     "output_type": "stream",
     "text": [
      "(426, 2152)\n",
      "(426, 2022)\n"
     ]
    }
   ],
   "source": [
    "#drop the columns of all features that aren't numeric\n",
    "def drop_columns(radiomics_features):\n",
    "    my_type = 'float64'\n",
    "\n",
    "    dtypes = radiomics_features.dtypes.to_dict()\n",
    "    \n",
    "    for col_nam, typ in dtypes.items():\n",
    "\n",
    "         if (typ != my_type) and col_nam != \"ID\":\n",
    "                #print(col_nam)\n",
    "                radiomics_features.drop(col_nam, axis = 1,inplace = True)\n",
    "                \n",
    "    radiomics_features.drop(\"diagnostics_Image-original_Mean\", axis = 1,inplace = True)\n",
    "    radiomics_features.drop(\"diagnostics_Image-original_Maximum\", axis = 1,inplace = True)\n",
    "    print(radiomics_features.shape)\n",
    "    return radiomics_features\n",
    "\n",
    "cleaned_features=drop_columns(radiomics_features)\n",
    "\n",
    "#get a csv file with all the numeric radiomics features\n",
    "dtypes = cleaned_features.dtypes.to_dict()\n",
    "for col_nam, typ in dtypes.items():\n",
    "        count=0\n",
    "        num = cleaned_features[col_nam][0]\n",
    "        for x in range(1,len(cleaned_features[col_nam])):\n",
    "            if cleaned_features[col_nam][x]!=num:\n",
    "                count+=1\n",
    "        \n",
    "        if count==0:\n",
    "            cleaned_features.drop(col_nam, axis = 1,inplace = True)\n",
    "        \n",
    "        \n",
    "print(cleaned_features.shape)\n",
    "\n",
    "cleaned_features.to_csv(\"C1.entorhinal_cleaned_features.csv\", index=False)"
   ]
  },
  {
   "cell_type": "code",
   "execution_count": 27,
   "metadata": {},
   "outputs": [
    {
     "name": "stdout",
     "output_type": "stream",
     "text": [
      "['027_S_0408', '137_S_0800', '099_S_0291', '023_S_0084', '137_S_0669', '099_S_1034', '137_S_0443', '099_S_1144', '099_S_0551', '137_S_0668', '137_S_0722', '067_S_0336', '109_S_1183', '137_S_0481', '136_S_0300', '094_S_1188', '033_S_1279', '024_S_1307', '029_S_0843', '016_S_1092', '136_S_0579']\n",
      "(405, 2022)\n"
     ]
    }
   ],
   "source": [
    "df = pd.read_csv(\"C1.entorhinal_cleaned_features.csv\")\n",
    "\n",
    "ficheiroBase = pd.read_csv(\"A3.DS_Brain.csv\")\n",
    "\n",
    "lista405=[]\n",
    "lista426=[]\n",
    "\n",
    "for index, row in ficheiroBase.iterrows():\n",
    "    idBase=row[0]\n",
    "    lista405.append(idBase)\n",
    "\n",
    "for index, row in df.iterrows():\n",
    "    id=row[0]\n",
    "    lista426.append(id)\n",
    "  \n",
    "listaDrop=[]\n",
    "\n",
    "for num in lista426:\n",
    "    if num not in lista405:\n",
    "        listaDrop.append(num)\n",
    "\n",
    "print(listaDrop)\n",
    "\n",
    "for item in listaDrop:\n",
    "    indexNames = df[df['ID'] == item].index\n",
    "    df.drop(index=indexNames , inplace=True)\n",
    "\n",
    "print(df.shape)\n",
    "df.to_csv(\"C1.entorhinal_cleaned_features.csv\", index = False)"
   ]
  },
  {
   "cell_type": "code",
   "execution_count": 28,
   "metadata": {},
   "outputs": [
    {
     "name": "stdout",
     "output_type": "stream",
     "text": [
      "(405, 2013)\n",
      "{'age': 61.4, 'mmse': 26, 'cdr': 0.5, 'sex': 0, 'trans': 'MCI-AD', 'transID': 1, 'class': 'MCI', 'classID': 1}\n"
     ]
    }
   ],
   "source": [
    "df = pd.read_csv(\"A3.DS_Brain.csv\")\n",
    "print(df.shape)\n",
    "dic = {}\n",
    "\n",
    "for index, row in df.iterrows():\n",
    "    dic[row[0]] = {\"age\": \"\", \"mmse\": \"\", \"cdr\": \"\", \"sex\": \"\", \"trans\": \"\", \"transID\": \"\", \"class\":\"\", \"classID\":\"\"}\n",
    "    dic[row[0]][\"age\"] = df[\"Age\"].values[index]\n",
    "    dic[row[0]][\"mmse\"] = df[\"MMSE\"].values[index]\n",
    "    dic[row[0]][\"cdr\"] = df[\"CDR\"].values[index]\n",
    "    dic[row[0]][\"sex\"] = df[\"Sex\"].values[index]\n",
    "    dic[row[0]][\"trans\"] = df[\"Transition\"].values[index]\n",
    "    dic[row[0]][\"transID\"] = df[\"Transition_Label\"].values[index]\n",
    "    dic[row[0]][\"class\"] = df[\"Class\"].values[index]\n",
    "    dic[row[0]][\"classID\"] = df[\"Class_Label\"].values[index]\n",
    "    \n",
    "\n",
    "print(dic[\"003_S_1057\"])"
   ]
  },
  {
   "cell_type": "code",
   "execution_count": 29,
   "metadata": {},
   "outputs": [
    {
     "name": "stdout",
     "output_type": "stream",
     "text": [
      "(405, 2022)\n",
      "(405, 2030)\n"
     ]
    }
   ],
   "source": [
    "ficheiro = pd.read_csv(\"C1.entorhinal_cleaned_features.csv\")\n",
    "print(ficheiro.shape)\n",
    "\n",
    "ages = []\n",
    "mmses = []\n",
    "cdrs = []\n",
    "sexs = []\n",
    "trans = []\n",
    "trans_ids = []\n",
    "clas=[]\n",
    "class_id=[]\n",
    "\n",
    "for index2, row2 in ficheiro.iterrows():\n",
    "    for key in dic:\n",
    "        if row2[0]==key:\n",
    "            ages.append(dic[key][\"age\"])\n",
    "            mmses.append(dic[key][\"mmse\"])\n",
    "            cdrs.append(dic[key][\"cdr\"])\n",
    "            sexs.append(dic[key][\"sex\"])\n",
    "            trans.append(dic[key][\"trans\"])\n",
    "            trans_ids.append(dic[key][\"transID\"])\n",
    "            clas.append(dic[key][\"class\"])\n",
    "            class_id.append(dic[key][\"classID\"])\n",
    "\n",
    "ficheiro.insert(1, 'Age', ages)\n",
    "ficheiro.insert(2, 'MMSE', mmses)         \n",
    "ficheiro.insert(3, 'CDR', cdrs)         \n",
    "ficheiro.insert(4, 'Sex', sexs)         \n",
    "ficheiro.insert(5, 'Transition', trans)         \n",
    "ficheiro.insert(6, 'Transition_ID',trans_ids)       \n",
    "ficheiro.insert(5, 'Class', clas)         \n",
    "ficheiro.insert(6, 'Class_ID',class_id) \n",
    "\n",
    "print(ficheiro.shape)\n",
    "\n",
    "ficheiro.to_csv(\"C1.entorhinal_cleaned_features.csv\", index = False)"
   ]
  },
  {
   "cell_type": "code",
   "execution_count": 30,
   "metadata": {},
   "outputs": [
    {
     "data": {
      "text/plain": [
       "{'CN-MCI': 16,\n",
       " 'CN-AD': 0,\n",
       " 'MCI-AD': 88,\n",
       " 'CN-CN': 125,\n",
       " 'MCI-MCI': 101,\n",
       " 'AD-AD': 75}"
      ]
     },
     "execution_count": 30,
     "metadata": {},
     "output_type": "execute_result"
    }
   ],
   "source": [
    "def contagens_transicoes(ficheiro):\n",
    "    contas = {\"CN-MCI\":0, \"CN-AD\":0, \"MCI-AD\":0, \"CN-CN\":0, \"MCI-MCI\":0, \"AD-AD\":0}\n",
    "    for index, row in ficheiro.iterrows():\n",
    "        contas[row[\"Transition\"]] += 1\n",
    "    return contas\n",
    "\n",
    "contagens_transicoes(pd.read_csv(\"C1.entorhinal_cleaned_features.csv\"))"
   ]
  },
  {
   "cell_type": "code",
   "execution_count": 31,
   "metadata": {},
   "outputs": [
    {
     "data": {
      "text/plain": [
       "2    125\n",
       "3    101\n",
       "1     88\n",
       "4     75\n",
       "0     16\n",
       "Name: Transition_ID, dtype: int64"
      ]
     },
     "execution_count": 31,
     "metadata": {},
     "output_type": "execute_result"
    }
   ],
   "source": [
    "df=pd.read_csv(\"C1.entorhinal_cleaned_features.csv\")\n",
    "df[\"Transition_ID\"].value_counts()"
   ]
  },
  {
   "cell_type": "code",
   "execution_count": 32,
   "metadata": {},
   "outputs": [
    {
     "data": {
      "text/plain": [
       "{'CN': 141, 'MCI': 189, 'AD': 75}"
      ]
     },
     "execution_count": 32,
     "metadata": {},
     "output_type": "execute_result"
    }
   ],
   "source": [
    "def contagens_classes(ficheiro):\n",
    "    contas = {\"CN\":0, \"MCI\":0, \"AD\":0}\n",
    "    for index, row in ficheiro.iterrows():\n",
    "        contas[row[\"Class\"]] += 1\n",
    "    return contas\n",
    "\n",
    "contagens_classes(pd.read_csv(\"C1.entorhinal_cleaned_features.csv\"))"
   ]
  },
  {
   "cell_type": "code",
   "execution_count": 33,
   "metadata": {},
   "outputs": [
    {
     "name": "stdout",
     "output_type": "stream",
     "text": [
      "(405, 2030)\n"
     ]
    }
   ],
   "source": [
    "#normalize the data\n",
    "file = \"C1.entorhinal_cleaned_features.csv\"\n",
    "csv = pd.read_csv(file)\n",
    "\n",
    "columns=[\"ID\",\"Sex\",\"Age\",\"MMSE\",\"CDR\",\"Transition\",\"Transition_ID\",\"Class\",\"Class_ID\"]\n",
    "\n",
    "def normalize_radiomic():\n",
    "    \n",
    "    ficheiro = pd.read_csv(file)\n",
    "    data = ficheiro.drop(columns=columns)\n",
    "    data_normalized = data.apply(lambda x:( (x - x.min()) / (x.max()-x.min())))\n",
    "    return data_normalized\n",
    "   \n",
    "df=normalize_radiomic()\n",
    "\n",
    "listaID=csv[\"ID\"]\n",
    "listaSex=csv[\"Sex\"]\n",
    "listaAge=csv[\"Age\"]\n",
    "listaMMSE=csv[\"MMSE\"]\n",
    "listaCDR=csv[\"CDR\"]\n",
    "listaTransitions=csv[\"Transition\"]\n",
    "listaTransitionsID=csv[\"Transition_ID\"]\n",
    "listaClasses=csv[\"Class\"]\n",
    "listaClassesID=csv[\"Class_ID\"]\n",
    "\n",
    "df.insert(0, 'ID', listaID)\n",
    "df.insert(1, 'Sex', listaSex)\n",
    "df.insert(2, 'Age', listaAge)\n",
    "df.insert(3, 'MMSE', listaMMSE)\n",
    "df.insert(4, 'CDR', listaCDR)\n",
    "df.insert(5, 'Transition_Label', listaTransitionsID)\n",
    "df.insert(6, 'Transition', listaTransitions)\n",
    "df.insert(7, 'Class_Label', listaClassesID)\n",
    "df.insert(8, 'Class', listaClasses)\n",
    "\n",
    "print(df.shape)\n",
    "df.to_csv(\"C2.DS_Entorh.csv\", index = False)"
   ]
  },
  {
   "cell_type": "markdown",
   "metadata": {},
   "source": [
    "### Reorder features in CSV - !!!!"
   ]
  },
  {
   "cell_type": "code",
   "execution_count": null,
   "metadata": {},
   "outputs": [],
   "source": [
    "csv=pd.read_csv(CSV_FILE) \n",
    "\n",
    "columns=[\"ID\",\"Sex\",\"Age\",\"MMSE\",\"CDR\",\"Transition\",\"Transition_ID\",\"Class\",\"Class_ID\"]\n",
    "\n",
    "def sort(df):\n",
    "    \n",
    "    data = csv.drop(df.columns[0], axis=1)\n",
    "    data = df.drop(columns=columns)\n",
    "        \n",
    "    data.sort_index(axis=1, ascending=True, inplace=True)\n",
    "    \n",
    "    return data\n",
    "   \n",
    "df=sort(csv)\n",
    "\n",
    "listaID=csv[\"ID\"]\n",
    "listaSex=csv[\"Sex\"]\n",
    "listaAge=csv[\"Age\"]\n",
    "listaMMSE=csv[\"MMSE\"]\n",
    "listaCDR=csv[\"CDR\"]\n",
    "listaTransitions=csv[\"Transition\"]\n",
    "listaTransitionsID=csv[\"Transition_ID\"]\n",
    "listaClasses=csv[\"Class\"]\n",
    "listaClassesID=csv[\"Class_ID\"]\n",
    "\n",
    "df.insert(0, 'ID', listaID)\n",
    "df.insert(1, 'Sex', listaSex)\n",
    "df.insert(2, 'Age', listaAge)\n",
    "df.insert(3, 'MMSE', listaMMSE)\n",
    "df.insert(4, 'CDR', listaCDR)\n",
    "df.insert(5, 'Transition_Label', listaTransitionsID)\n",
    "df.insert(6, 'Transition', listaTransitions)\n",
    "df.insert(7, 'Class_Label', listaClassesID)\n",
    "df.insert(8, 'Class', listaClasses)\n",
    "\n",
    "print(df.shape)\n",
    "df.to_csv(CSV_FILE+'_sort.csv', index = False)"
   ]
  },
  {
   "cell_type": "code",
   "execution_count": null,
   "metadata": {},
   "outputs": [],
   "source": []
  }
 ],
 "metadata": {
  "kernelspec": {
   "display_name": "Python 3",
   "language": "python",
   "name": "python3"
  },
  "language_info": {
   "codemirror_mode": {
    "name": "ipython",
    "version": 3
   },
   "file_extension": ".py",
   "mimetype": "text/x-python",
   "name": "python",
   "nbconvert_exporter": "python",
   "pygments_lexer": "ipython3",
   "version": "3.7.7"
  }
 },
 "nbformat": 4,
 "nbformat_minor": 4
}
