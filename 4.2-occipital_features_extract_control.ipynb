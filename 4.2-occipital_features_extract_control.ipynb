{
 "cells": [
  {
   "cell_type": "markdown",
   "metadata": {},
   "source": [
    "# ADNI_Segment_processing - laterooccipital - CONTROLO"
   ]
  },
  {
   "cell_type": "code",
   "execution_count": 1,
   "metadata": {},
   "outputs": [],
   "source": [
    "import os  # needed navigate the system to get the input data\n",
    "import glob\n",
    "\n",
    "import matplotlib.pyplot as plt\n",
    "from ipywidgets import widgets, interact\n",
    "%matplotlib inline\n",
    "\n",
    "import numpy as np\n",
    "import pandas as pd\n",
    "#import six\n",
    "\n",
    "import nibabel as nib"
   ]
  },
  {
   "cell_type": "code",
   "execution_count": 13,
   "metadata": {},
   "outputs": [
    {
     "name": "stdout",
     "output_type": "stream",
     "text": [
      "Parameter file, absolute path: /notebooks/disk2/params.yaml\n"
     ]
    }
   ],
   "source": [
    "#constants\n",
    "PATH_SCANS = \"/notebooks/disk2/DS2_FreeSurfer/\"\n",
    "#PATH_SCANS = \"/notebooks/disk2/Paulo_MCI_AD/DS2_FreeSurfer/\"\n",
    "\n",
    "# Additonally, store the location of the example parameter file, stored in \\pyradiomics\\bin\n",
    "#PATH_PARAM = os.path.join(os.getcwd(), \"..\", \"Params.yaml\")\n",
    "PATH_PARAM = \"params.yaml\"\n",
    "print(\"Parameter file, absolute path:\", os.path.abspath(PATH_PARAM))\n",
    "\n",
    "PATH_CSV_FREESURFER_FILES = 'paths_entorhinal.csv'\n",
    "#PATH_CSV_FREESURFER_FILES = 'paths_freesurfer_valves2.csv'\n",
    "PATH_CSV_RADIOMICS_ALL = 'D2.all_radiomics_occipital_controlo.csv'"
   ]
  },
  {
   "cell_type": "markdown",
   "metadata": {},
   "source": [
    "### Setting up data"
   ]
  },
  {
   "cell_type": "code",
   "execution_count": 25,
   "metadata": {},
   "outputs": [
    {
     "name": "stdout",
     "output_type": "stream",
     "text": [
      "Parameter file, absolute path: /notebooks/disk2/params.yaml\n"
     ]
    }
   ],
   "source": [
    "# Get the paths \".mgz\"\n",
    "\n",
    "paths = {}\n",
    "def percorrePasta(pasta, barrasIniciais):\n",
    "    if barrasIniciais == 0:\n",
    "        barrasIniciais = len(pasta.split(\"/\"))-1\n",
    "    files = []\n",
    "    for f in glob.glob(pasta):\n",
    "        if(os.path.isdir(f + \"/\")):\n",
    "            f = f + \"/*\"\n",
    "            files += percorrePasta(f, barrasIniciais)\n",
    "        else:\n",
    "            if(os.path.splitext(f)[1] == \".mgz\" ):\n",
    "                nomeFicheiro = f.split(\"/\")[2+barrasIniciais]\n",
    "                numeroPaciente = f.split(\"/\")[barrasIniciais][5:15]\n",
    "                if nomeFicheiro == \"aparc+aseg.mgz\" or nomeFicheiro == \"brain.mgz\" :\n",
    "                    if numeroPaciente not in paths:\n",
    "                        paths[numeroPaciente] = {\"aparc+aseg\": \"\", \"brain\": \"\", \"hipocampo\": \"\", \"diretorio\": \"\"}\n",
    "                    paths[numeroPaciente][nomeFicheiro.replace(\".mgz\", \"\")] = f\n",
    "                    paths[numeroPaciente][\"diretorio\"] = f.replace(nomeFicheiro, \"\")\n",
    "                    \n",
    "                        \n",
    "    return paths\n",
    "\n",
    "percorrePasta(\"/notebooks/disk2/DS2_FreeSurfer/*\", 0) #paths já está alterado\n",
    "#percorrePasta(\"/notebooks/disk2/Paulo_MCI_AD/DS2_FreeSurfer/*\", 0) #paths já está alterado\n",
    "\n",
    "# Additonally, store the location of the example parameter file, stored in \\pyradiomics\\bin\n",
    "#paramPath = os.path.join(os.getcwd(), \"..\", \"Params.yaml\")\n",
    "paramPath = \"params.yaml\"\n",
    "print(\"Parameter file, absolute path:\", os.path.abspath(paramPath))\n"
   ]
  },
  {
   "cell_type": "code",
   "execution_count": 26,
   "metadata": {},
   "outputs": [
    {
     "name": "stdout",
     "output_type": "stream",
     "text": [
      "{'aparc+aseg': '/notebooks/disk2/DS2_FreeSurfer/ADNI_006_S_0681_MR_MP-RAGE__br_raw_20060831143335593_1_S18451_I23677_generate/mri/aparc+aseg.mgz', 'brain': '/notebooks/disk2/DS2_FreeSurfer/ADNI_006_S_0681_MR_MP-RAGE__br_raw_20060831143335593_1_S18451_I23677_generate/mri/brain.mgz', 'hipocampo': '', 'diretorio': '/notebooks/disk2/DS2_FreeSurfer/ADNI_006_S_0681_MR_MP-RAGE__br_raw_20060831143335593_1_S18451_I23677_generate/mri/'}\n",
      "{'aparc+aseg': '/notebooks/disk2/DS2_FreeSurfer/ADNI_002_S_0295_MR_MP-RAGE__br_raw_20060418193713091_1_S13408_I13722_generate/mri/aparc+aseg.mgz', 'brain': '/notebooks/disk2/DS2_FreeSurfer/ADNI_002_S_0295_MR_MP-RAGE__br_raw_20060418193713091_1_S13408_I13722_generate/mri/brain.mgz', 'hipocampo': '', 'diretorio': '/notebooks/disk2/DS2_FreeSurfer/ADNI_002_S_0295_MR_MP-RAGE__br_raw_20060418193713091_1_S13408_I13722_generate/mri/'}\n"
     ]
    }
   ],
   "source": [
    "print(paths[\"006_S_0681\"])\n",
    "print(paths[\"002_S_0295\"])"
   ]
  },
  {
   "cell_type": "code",
   "execution_count": null,
   "metadata": {},
   "outputs": [],
   "source": [
    "#Create files .nii.gz\n",
    "\n",
    "#for paciente in paths:\n",
    "    #brain = paths[paciente][\"brain\"][:-4]\n",
    "    #aparcaseg = paths[paciente][\"aparc+aseg\"][:-4]\n",
    "    #print(aparcaseg)\n",
    "    #img_brain = nib.load(f\"{brain}.mgz\")\n",
    "    #nib.save(img_brain , f\"{brain}.nii.gz\")\n",
    "    #print(\"done_brain\")\n",
    "    \n",
    "    #img_aparc_aseg = nib.load(f\"{aparcaseg}.mgz\")\n",
    "    #nib.save(img_aparc_aseg , f\"{aparcaseg}.nii.gz\")\n",
    "    #print(\"done_aparc-aseg\")"
   ]
  },
  {
   "cell_type": "code",
   "execution_count": 3,
   "metadata": {},
   "outputs": [
    {
     "name": "stdout",
     "output_type": "stream",
     "text": [
      "{'aparc+aseg': '/notebooks/disk2/DS2_FreeSurfer/ADNI_006_S_0681_MR_MP-RAGE__br_raw_20060831143335593_1_S18451_I23677_generate/mri/aparc+aseg.nii.gz', 'brain': '/notebooks/disk2/DS2_FreeSurfer/ADNI_006_S_0681_MR_MP-RAGE__br_raw_20060831143335593_1_S18451_I23677_generate/mri/brain.nii.gz', 'diretorio': '/notebooks/disk2/DS2_FreeSurfer/ADNI_006_S_0681_MR_MP-RAGE__br_raw_20060831143335593_1_S18451_I23677_generate/mri/'}\n",
      "{'aparc+aseg': '/notebooks/disk2/DS2_FreeSurfer/ADNI_002_S_0295_MR_MP-RAGE__br_raw_20060418193713091_1_S13408_I13722_generate/mri/aparc+aseg.nii.gz', 'brain': '/notebooks/disk2/DS2_FreeSurfer/ADNI_002_S_0295_MR_MP-RAGE__br_raw_20060418193713091_1_S13408_I13722_generate/mri/brain.nii.gz', 'diretorio': '/notebooks/disk2/DS2_FreeSurfer/ADNI_002_S_0295_MR_MP-RAGE__br_raw_20060418193713091_1_S13408_I13722_generate/mri/'}\n"
     ]
    }
   ],
   "source": [
    "# Get the paths \".nii.gz\"\n",
    "\n",
    "paths_nii = {}\n",
    "def percorrePasta_2(pasta, barrasIniciais):\n",
    "    if barrasIniciais == 0:\n",
    "        barrasIniciais = len(pasta.split(\"/\"))-1\n",
    "    files = []\n",
    "    for f in glob.glob(pasta):\n",
    "        if(os.path.isdir(f + \"/\")):\n",
    "            f = f + \"/*\"\n",
    "            files += percorrePasta_2(f, barrasIniciais)\n",
    "        else:\n",
    "            if(os.path.splitext(f)[1] == \".gz\" ):\n",
    "                nomeFicheiro = f.split(\"/\")[2+barrasIniciais]\n",
    "                numeroPaciente = f.split(\"/\")[barrasIniciais][5:15]\n",
    "                if nomeFicheiro == \"aparc+aseg.nii.gz\" or nomeFicheiro == \"brain.nii.gz\" :\n",
    "                    if numeroPaciente not in paths_nii:\n",
    "                        paths_nii[numeroPaciente] = {\"aparc+aseg\": \"\", \"brain\": \"\", \"diretorio\": \"\"}\n",
    "                    paths_nii[numeroPaciente][nomeFicheiro.replace(\".nii.gz\", \"\")] = f\n",
    "                    paths_nii[numeroPaciente][\"diretorio\"] = f.replace(nomeFicheiro, \"\")\n",
    "                        \n",
    "    return paths_nii\n",
    "\n",
    "percorrePasta_2(PATH_SCANS+'*', 0) #paths já está alterado\n",
    "#percorrePasta(\"/notebooks/disk2/Paulo_MCI_AD/DS2_FreeSurfer/*\", 0) #paths já está alterado\n",
    "print(paths_nii[\"006_S_0681\"])\n",
    "print(paths_nii[\"002_S_0295\"])\n"
   ]
  },
  {
   "cell_type": "code",
   "execution_count": 4,
   "metadata": {},
   "outputs": [],
   "source": [
    "# label selection\n",
    "#img = nib.load(labelPath).get_fdata()\n",
    "#print(type(img))\n",
    "\n",
    "def get_labelnp_from_mgz(labelPath, regionlist):\n",
    "    nplabel = nib.load(labelPath).get_fdata()\n",
    "    for reg in regionlist:\n",
    "        nplabel[nplabel == reg] =-1\n",
    "    nplabel[nplabel != -1] =0\n",
    "    nplabel[nplabel == -1] =1\n",
    "    return nplabel\n",
    "\n",
    "#label_hp=get_labelnp_from_mgz(labelPath, [17,53])\n",
    "#print(label_hp)"
   ]
  },
  {
   "cell_type": "code",
   "execution_count": 5,
   "metadata": {},
   "outputs": [
    {
     "data": {
      "image/png": "[encoded data removed]",
      "text/plain": [
       "<Figure size 432x288 with 1 Axes>"
      ]
     },
     "metadata": {
      "needs_background": "light"
     },
     "output_type": "display_data"
    },
    {
     "data": {
      "image/png": "[encoded data removed]",
      "text/plain": [
       "<Figure size 432x288 with 1 Axes>"
      ]
     },
     "metadata": {
      "needs_background": "light"
     },
     "output_type": "display_data"
    }
   ],
   "source": [
    "def display_mask(subject):\n",
    "    label = get_labelnp_from_mgz(paths_nii[subject][\"aparc+aseg\"], [1011,2011])\n",
    "    plt.imshow(np.sum((label>0).astype(float), 0), cmap=\"gray\")\n",
    "    plt.show()\n",
    "\n",
    "display_mask(\"006_S_0681\")\n",
    "display_mask(\"002_S_0295\")"
   ]
  },
  {
   "cell_type": "code",
   "execution_count": 6,
   "metadata": {},
   "outputs": [
    {
     "data": {
      "application/vnd.jupyter.widget-view+json": {
       "model_id": "eb489db741c54271a9df031fc048dcbd",
       "version_major": 2,
       "version_minor": 0
      },
      "text/plain": [
       "interactive(children=(Dropdown(description='subject', options=('006_S_0681', '941_S_1203', '011_S_0003', '057_…"
      ]
     },
     "metadata": {},
     "output_type": "display_data"
    }
   ],
   "source": [
    "# Display the images\n",
    "\n",
    "list_subject = list(paths_nii.keys())\n",
    "@interact \n",
    "def display_img_mask(subject=list_subject):\n",
    "    #example ADNI_002_S_0295\n",
    "    print(paths_nii[subject][\"brain\"]) \n",
    "    img = nib.load(paths_nii[subject][\"brain\"]).get_fdata()\n",
    "    print(img.shape)\n",
    "\n",
    "    print(paths_nii[subject][\"aparc+aseg\"]) \n",
    "    label = get_labelnp_from_mgz(paths_nii[subject][\"aparc+aseg\"], [1011,2011])\n",
    "    print(label.shape)\n",
    "\n",
    "    @interact\n",
    "    def viewer_scan(i=(60,200)):\n",
    "        plt.figure(figsize=(15,15))\n",
    "        plt.subplot(2,2,1)\n",
    "        plt.imshow(img[i,:,:], cmap=\"gray\")        \n",
    "        plt.title(\"Img\")\n",
    "        plt.subplot(2,2,2)\n",
    "        plt.imshow(label[i,:,:])        \n",
    "        plt.title(\"Segmentation\")\n",
    "        plt.show()\n"
   ]
  },
  {
   "cell_type": "code",
   "execution_count": 38,
   "metadata": {},
   "outputs": [],
   "source": [
    "#save paths in CSV\n",
    "def create_path_freesurfer_csv(paths_dic,path_csv): \n",
    "    colunas = [\"ID\", \"Image\", \"Mask\"]\n",
    "    df = pd.DataFrame([],columns=colunas)\n",
    "    for paciente in paths_dic:\n",
    "        coluna1 = paths_dic[paciente][\"brain\"]\n",
    "        coluna2 = paths_dic[paciente][\"aparc+aseg\"]\n",
    "        lista = [paciente, coluna1, coluna2]\n",
    "        df.loc[df.shape[0]] = lista \n",
    "\n",
    "    df.to_csv(path_csv, index=False)\n",
    "\n",
    "#create_path_freesurfer_csv(paths_nii,PATH_CSV_FREESURFER_FILES)"
   ]
  },
  {
   "cell_type": "markdown",
   "metadata": {},
   "source": [
    "### Segment Radiomics Extraction"
   ]
  },
  {
   "cell_type": "code",
   "execution_count": 7,
   "metadata": {},
   "outputs": [],
   "source": [
    "#from mpl_toolkits.mplot3d import Axes3D\n",
    "#import seaborn as sns\n",
    "#import h5py # for reading the image files\n",
    "#import skimage # for image processing and visualizations\n",
    "#import sklearn # for machine learning and statistical models\n",
    "\n",
    "from pathlib import Path # help manage files\n",
    "from SimpleITK import GetImageFromArray\n",
    "import radiomics\n",
    "from radiomics import featureextractor\n",
    "from radiomics.featureextractor import RadiomicsFeatureExtractor # This module is used for interaction with pyradiomic\n",
    "import logging\n",
    "logging.getLogger('radiomics').setLevel(logging.CRITICAL + 1)  # this tool makes a whole TON of log noise"
   ]
  },
  {
   "cell_type": "code",
   "execution_count": 8,
   "metadata": {},
   "outputs": [
    {
     "name": "stdout",
     "output_type": "stream",
     "text": [
      "Extraction parameters:\n",
      "\t {'minimumROIDimensions': 2, 'minimumROISize': None, 'normalize': False, 'normalizeScale': 1, 'removeOutliers': None, 'resampledPixelSpacing': None, 'interpolator': 'sitkBSpline', 'preCrop': False, 'padDistance': 5, 'distances': [1], 'force2D': False, 'force2Ddimension': 0, 'resegmentRange': None, 'label': 1, 'additionalInfo': True}\n",
      "Enabled filters:\n",
      "\t {'Original': {}, 'Wavelet': {}, 'LoG': {'sigma': [1.0, 2.0, 3.0, 4.0, 5.0]}, 'Square': {}, 'SquareRoot': {}, 'Logarithm': {}, 'Exponential': {}, 'Gradient': {}, 'LBP2D': {}, 'LBP3D': {}}\n",
      "Enabled features:\n",
      "\t {'firstorder': [], 'glcm': [], 'gldm': [], 'glrlm': [], 'glszm': [], 'ngtdm': [], 'shape': [], 'shape2D': []}\n"
     ]
    }
   ],
   "source": [
    "extractor = featureextractor.RadiomicsFeatureExtractor(PATH_PARAM)\n",
    "print('Extraction parameters:\\n\\t', extractor.settings)\n",
    "print('Enabled filters:\\n\\t', extractor.enabledImagetypes)\n",
    "print('Enabled features:\\n\\t', extractor.enabledFeatures)"
   ]
  },
  {
   "cell_type": "code",
   "execution_count": 9,
   "metadata": {},
   "outputs": [
    {
     "name": "stdout",
     "output_type": "stream",
     "text": [
      "CPU times: user 49 s, sys: 17.9 s, total: 1min 6s\n",
      "Wall time: 42.1 s\n"
     ]
    },
    {
     "data": {
      "text/html": [
       "<div>\n",
       "<style scoped>\n",
       "    .dataframe tbody tr th:only-of-type {\n",
       "        vertical-align: middle;\n",
       "    }\n",
       "\n",
       "    .dataframe tbody tr th {\n",
       "        vertical-align: top;\n",
       "    }\n",
       "\n",
       "    .dataframe thead th {\n",
       "        text-align: right;\n",
       "    }\n",
       "</style>\n",
       "<table border=\"1\" class=\"dataframe\">\n",
       "  <thead>\n",
       "    <tr style=\"text-align: right;\">\n",
       "      <th></th>\n",
       "      <th>0</th>\n",
       "    </tr>\n",
       "  </thead>\n",
       "  <tbody>\n",
       "    <tr>\n",
       "      <th>diagnostics_Versions_PyRadiomics</th>\n",
       "      <td>2.2.0</td>\n",
       "    </tr>\n",
       "    <tr>\n",
       "      <th>diagnostics_Versions_Numpy</th>\n",
       "      <td>1.18.5</td>\n",
       "    </tr>\n",
       "    <tr>\n",
       "      <th>diagnostics_Versions_SimpleITK</th>\n",
       "      <td>1.2.4</td>\n",
       "    </tr>\n",
       "    <tr>\n",
       "      <th>diagnostics_Versions_PyWavelet</th>\n",
       "      <td>1.1.1</td>\n",
       "    </tr>\n",
       "    <tr>\n",
       "      <th>diagnostics_Versions_Python</th>\n",
       "      <td>3.7.7</td>\n",
       "    </tr>\n",
       "    <tr>\n",
       "      <th>...</th>\n",
       "      <td>...</td>\n",
       "    </tr>\n",
       "    <tr>\n",
       "      <th>lbp-3D-k_ngtdm_Busyness</th>\n",
       "      <td>98.44362185678462</td>\n",
       "    </tr>\n",
       "    <tr>\n",
       "      <th>lbp-3D-k_ngtdm_Coarseness</th>\n",
       "      <td>0.005261971428546726</td>\n",
       "    </tr>\n",
       "    <tr>\n",
       "      <th>lbp-3D-k_ngtdm_Complexity</th>\n",
       "      <td>0.021912007504562257</td>\n",
       "    </tr>\n",
       "    <tr>\n",
       "      <th>lbp-3D-k_ngtdm_Contrast</th>\n",
       "      <td>0.0002444566050228647</td>\n",
       "    </tr>\n",
       "    <tr>\n",
       "      <th>lbp-3D-k_ngtdm_Strength</th>\n",
       "      <td>0.005402113944319359</td>\n",
       "    </tr>\n",
       "  </tbody>\n",
       "</table>\n",
       "<p>2175 rows × 1 columns</p>\n",
       "</div>"
      ],
      "text/plain": [
       "                                                      0\n",
       "diagnostics_Versions_PyRadiomics                  2.2.0\n",
       "diagnostics_Versions_Numpy                       1.18.5\n",
       "diagnostics_Versions_SimpleITK                    1.2.4\n",
       "diagnostics_Versions_PyWavelet                    1.1.1\n",
       "diagnostics_Versions_Python                       3.7.7\n",
       "...                                                 ...\n",
       "lbp-3D-k_ngtdm_Busyness               98.44362185678462\n",
       "lbp-3D-k_ngtdm_Coarseness          0.005261971428546726\n",
       "lbp-3D-k_ngtdm_Complexity          0.021912007504562257\n",
       "lbp-3D-k_ngtdm_Contrast           0.0002444566050228647\n",
       "lbp-3D-k_ngtdm_Strength            0.005402113944319359\n",
       "\n",
       "[2175 rows x 1 columns]"
      ]
     },
     "execution_count": 9,
     "metadata": {},
     "output_type": "execute_result"
    }
   ],
   "source": [
    "%%time\n",
    "#TEST1\n",
    "\n",
    "def calc_radiomics(in_image_data, in_mask_data):\n",
    "    return extractor.execute(GetImageFromArray(in_image_data),\n",
    "                            GetImageFromArray((in_mask_data>0).astype(np.uint8)))\n",
    "\n",
    "def calc_radiomics_files(in_image_file, in_mask_file):\n",
    "    img = nib.load(in_image_file).get_fdata()\n",
    "    mask = get_labelnp_from_mgz(in_mask_file, [1011,2011])\n",
    "    return extractor.execute(GetImageFromArray(img),\n",
    "                            GetImageFromArray((mask>0).astype(np.uint8)))\n",
    "\n",
    "def test_rad_extration(subject):\n",
    "    img = nib.load(paths_nii[subject][\"brain\"]).get_fdata()\n",
    "    mask = get_labelnp_from_mgz(paths_nii[subject][\"aparc+aseg\"], [1011,2011])\n",
    "    results = calc_radiomics((img,mask))\n",
    "    return pd.DataFrame([results]).T\n",
    "\n",
    "def test_rad_extration_files(subject):\n",
    "    results = calc_radiomics_files(paths_nii[subject][\"brain\"],paths_nii[subject][\"aparc+aseg\"])\n",
    "    return pd.DataFrame([results]).T\n",
    "\n",
    "#test_rad_extration(\"006_S_0681\")\n",
    "test_rad_extration_files(\"006_S_0681\")"
   ]
  },
  {
   "cell_type": "code",
   "execution_count": null,
   "metadata": {},
   "outputs": [],
   "source": [
    "%%time\n",
    "#TEST2\n",
    "\n",
    "test_rad_extration(\"941_S_1203\")"
   ]
  },
  {
   "cell_type": "code",
   "execution_count": 10,
   "metadata": {},
   "outputs": [
    {
     "data": {
      "text/html": [
       "<div>\n",
       "<style scoped>\n",
       "    .dataframe tbody tr th:only-of-type {\n",
       "        vertical-align: middle;\n",
       "    }\n",
       "\n",
       "    .dataframe tbody tr th {\n",
       "        vertical-align: top;\n",
       "    }\n",
       "\n",
       "    .dataframe thead th {\n",
       "        text-align: right;\n",
       "    }\n",
       "</style>\n",
       "<table border=\"1\" class=\"dataframe\">\n",
       "  <thead>\n",
       "    <tr style=\"text-align: right;\">\n",
       "      <th></th>\n",
       "      <th>ID</th>\n",
       "      <th>Image</th>\n",
       "      <th>Mask</th>\n",
       "    </tr>\n",
       "  </thead>\n",
       "  <tbody>\n",
       "    <tr>\n",
       "      <th>0</th>\n",
       "      <td>006_S_0681</td>\n",
       "      <td>/notebooks/disk2/DS2_FreeSurfer/ADNI_006_S_068...</td>\n",
       "      <td>/notebooks/disk2/DS2_FreeSurfer/ADNI_006_S_068...</td>\n",
       "    </tr>\n",
       "    <tr>\n",
       "      <th>1</th>\n",
       "      <td>941_S_1203</td>\n",
       "      <td>/notebooks/disk2/DS2_FreeSurfer/ADNI_941_S_120...</td>\n",
       "      <td>/notebooks/disk2/DS2_FreeSurfer/ADNI_941_S_120...</td>\n",
       "    </tr>\n",
       "    <tr>\n",
       "      <th>2</th>\n",
       "      <td>011_S_0003</td>\n",
       "      <td>/notebooks/disk2/DS2_FreeSurfer/ADNI_011_S_000...</td>\n",
       "      <td>/notebooks/disk2/DS2_FreeSurfer/ADNI_011_S_000...</td>\n",
       "    </tr>\n",
       "    <tr>\n",
       "      <th>3</th>\n",
       "      <td>057_S_0779</td>\n",
       "      <td>/notebooks/disk2/DS2_FreeSurfer/ADNI_057_S_077...</td>\n",
       "      <td>/notebooks/disk2/DS2_FreeSurfer/ADNI_057_S_077...</td>\n",
       "    </tr>\n",
       "    <tr>\n",
       "      <th>4</th>\n",
       "      <td>033_S_0920</td>\n",
       "      <td>/notebooks/disk2/DS2_FreeSurfer/ADNI_033_S_092...</td>\n",
       "      <td>/notebooks/disk2/DS2_FreeSurfer/ADNI_033_S_092...</td>\n",
       "    </tr>\n",
       "  </tbody>\n",
       "</table>\n",
       "</div>"
      ],
      "text/plain": [
       "           ID                                              Image  \\\n",
       "0  006_S_0681  /notebooks/disk2/DS2_FreeSurfer/ADNI_006_S_068...   \n",
       "1  941_S_1203  /notebooks/disk2/DS2_FreeSurfer/ADNI_941_S_120...   \n",
       "2  011_S_0003  /notebooks/disk2/DS2_FreeSurfer/ADNI_011_S_000...   \n",
       "3  057_S_0779  /notebooks/disk2/DS2_FreeSurfer/ADNI_057_S_077...   \n",
       "4  033_S_0920  /notebooks/disk2/DS2_FreeSurfer/ADNI_033_S_092...   \n",
       "\n",
       "                                                Mask  \n",
       "0  /notebooks/disk2/DS2_FreeSurfer/ADNI_006_S_068...  \n",
       "1  /notebooks/disk2/DS2_FreeSurfer/ADNI_941_S_120...  \n",
       "2  /notebooks/disk2/DS2_FreeSurfer/ADNI_011_S_000...  \n",
       "3  /notebooks/disk2/DS2_FreeSurfer/ADNI_057_S_077...  \n",
       "4  /notebooks/disk2/DS2_FreeSurfer/ADNI_033_S_092...  "
      ]
     },
     "execution_count": 10,
     "metadata": {},
     "output_type": "execute_result"
    }
   ],
   "source": [
    "all_df=pd.read_csv(PATH_CSV_FREESURFER_FILES)\n",
    "all_df.head() # show the first lines"
   ]
  },
  {
   "cell_type": "code",
   "execution_count": 11,
   "metadata": {},
   "outputs": [
    {
     "name": "stdout",
     "output_type": "stream",
     "text": [
      "CPU times: user 5h 47min 5s, sys: 3h 13min 54s, total: 9h 1min\n",
      "Wall time: 6h 7min 30s\n"
     ]
    },
    {
     "data": {
      "text/html": [
       "<div>\n",
       "<style scoped>\n",
       "    .dataframe tbody tr th:only-of-type {\n",
       "        vertical-align: middle;\n",
       "    }\n",
       "\n",
       "    .dataframe tbody tr th {\n",
       "        vertical-align: top;\n",
       "    }\n",
       "\n",
       "    .dataframe thead th {\n",
       "        text-align: right;\n",
       "    }\n",
       "</style>\n",
       "<table border=\"1\" class=\"dataframe\">\n",
       "  <thead>\n",
       "    <tr style=\"text-align: right;\">\n",
       "      <th></th>\n",
       "      <th>ID</th>\n",
       "      <th>Image</th>\n",
       "      <th>Mask</th>\n",
       "      <th>radiomics</th>\n",
       "    </tr>\n",
       "  </thead>\n",
       "  <tbody>\n",
       "    <tr>\n",
       "      <th>0</th>\n",
       "      <td>006_S_0681</td>\n",
       "      <td>/notebooks/disk2/DS2_FreeSurfer/ADNI_006_S_068...</td>\n",
       "      <td>/notebooks/disk2/DS2_FreeSurfer/ADNI_006_S_068...</td>\n",
       "      <td>{'diagnostics_Versions_PyRadiomics': '2.2.0', ...</td>\n",
       "    </tr>\n",
       "    <tr>\n",
       "      <th>1</th>\n",
       "      <td>941_S_1203</td>\n",
       "      <td>/notebooks/disk2/DS2_FreeSurfer/ADNI_941_S_120...</td>\n",
       "      <td>/notebooks/disk2/DS2_FreeSurfer/ADNI_941_S_120...</td>\n",
       "      <td>{'diagnostics_Versions_PyRadiomics': '2.2.0', ...</td>\n",
       "    </tr>\n",
       "    <tr>\n",
       "      <th>2</th>\n",
       "      <td>011_S_0003</td>\n",
       "      <td>/notebooks/disk2/DS2_FreeSurfer/ADNI_011_S_000...</td>\n",
       "      <td>/notebooks/disk2/DS2_FreeSurfer/ADNI_011_S_000...</td>\n",
       "      <td>{'diagnostics_Versions_PyRadiomics': '2.2.0', ...</td>\n",
       "    </tr>\n",
       "    <tr>\n",
       "      <th>3</th>\n",
       "      <td>057_S_0779</td>\n",
       "      <td>/notebooks/disk2/DS2_FreeSurfer/ADNI_057_S_077...</td>\n",
       "      <td>/notebooks/disk2/DS2_FreeSurfer/ADNI_057_S_077...</td>\n",
       "      <td>{'diagnostics_Versions_PyRadiomics': '2.2.0', ...</td>\n",
       "    </tr>\n",
       "    <tr>\n",
       "      <th>4</th>\n",
       "      <td>033_S_0920</td>\n",
       "      <td>/notebooks/disk2/DS2_FreeSurfer/ADNI_033_S_092...</td>\n",
       "      <td>/notebooks/disk2/DS2_FreeSurfer/ADNI_033_S_092...</td>\n",
       "      <td>{'diagnostics_Versions_PyRadiomics': '2.2.0', ...</td>\n",
       "    </tr>\n",
       "  </tbody>\n",
       "</table>\n",
       "</div>"
      ],
      "text/plain": [
       "           ID                                              Image  \\\n",
       "0  006_S_0681  /notebooks/disk2/DS2_FreeSurfer/ADNI_006_S_068...   \n",
       "1  941_S_1203  /notebooks/disk2/DS2_FreeSurfer/ADNI_941_S_120...   \n",
       "2  011_S_0003  /notebooks/disk2/DS2_FreeSurfer/ADNI_011_S_000...   \n",
       "3  057_S_0779  /notebooks/disk2/DS2_FreeSurfer/ADNI_057_S_077...   \n",
       "4  033_S_0920  /notebooks/disk2/DS2_FreeSurfer/ADNI_033_S_092...   \n",
       "\n",
       "                                                Mask  \\\n",
       "0  /notebooks/disk2/DS2_FreeSurfer/ADNI_006_S_068...   \n",
       "1  /notebooks/disk2/DS2_FreeSurfer/ADNI_941_S_120...   \n",
       "2  /notebooks/disk2/DS2_FreeSurfer/ADNI_011_S_000...   \n",
       "3  /notebooks/disk2/DS2_FreeSurfer/ADNI_057_S_077...   \n",
       "4  /notebooks/disk2/DS2_FreeSurfer/ADNI_033_S_092...   \n",
       "\n",
       "                                           radiomics  \n",
       "0  {'diagnostics_Versions_PyRadiomics': '2.2.0', ...  \n",
       "1  {'diagnostics_Versions_PyRadiomics': '2.2.0', ...  \n",
       "2  {'diagnostics_Versions_PyRadiomics': '2.2.0', ...  \n",
       "3  {'diagnostics_Versions_PyRadiomics': '2.2.0', ...  \n",
       "4  {'diagnostics_Versions_PyRadiomics': '2.2.0', ...  "
      ]
     },
     "execution_count": 11,
     "metadata": {},
     "output_type": "execute_result"
    }
   ],
   "source": [
    "%%time\n",
    "\n",
    "all_df['radiomics'] = all_df.apply(lambda row: calc_radiomics_files(row[ \"Image\"], row[\"Mask\"]) ,axis = 1)\n",
    "\n",
    "all_df.head() "
   ]
  },
  {
   "cell_type": "code",
   "execution_count": 14,
   "metadata": {},
   "outputs": [
    {
     "name": "stdout",
     "output_type": "stream",
     "text": [
      "(426, 2178) data prepared\n"
     ]
    },
    {
     "data": {
      "text/html": [
       "<div>\n",
       "<style scoped>\n",
       "    .dataframe tbody tr th:only-of-type {\n",
       "        vertical-align: middle;\n",
       "    }\n",
       "\n",
       "    .dataframe tbody tr th {\n",
       "        vertical-align: top;\n",
       "    }\n",
       "\n",
       "    .dataframe thead th {\n",
       "        text-align: right;\n",
       "    }\n",
       "</style>\n",
       "<table border=\"1\" class=\"dataframe\">\n",
       "  <thead>\n",
       "    <tr style=\"text-align: right;\">\n",
       "      <th></th>\n",
       "      <th>ID</th>\n",
       "      <th>Image</th>\n",
       "      <th>Mask</th>\n",
       "      <th>diagnostics_Versions_PyRadiomics</th>\n",
       "      <th>diagnostics_Versions_Numpy</th>\n",
       "      <th>diagnostics_Versions_SimpleITK</th>\n",
       "      <th>diagnostics_Versions_PyWavelet</th>\n",
       "      <th>diagnostics_Versions_Python</th>\n",
       "      <th>diagnostics_Configuration_Settings</th>\n",
       "      <th>diagnostics_Configuration_EnabledImageTypes</th>\n",
       "      <th>...</th>\n",
       "      <th>lbp-3D-k_glszm_SmallAreaHighGrayLevelEmphasis</th>\n",
       "      <th>lbp-3D-k_glszm_SmallAreaLowGrayLevelEmphasis</th>\n",
       "      <th>lbp-3D-k_glszm_ZoneEntropy</th>\n",
       "      <th>lbp-3D-k_glszm_ZonePercentage</th>\n",
       "      <th>lbp-3D-k_glszm_ZoneVariance</th>\n",
       "      <th>lbp-3D-k_ngtdm_Busyness</th>\n",
       "      <th>lbp-3D-k_ngtdm_Coarseness</th>\n",
       "      <th>lbp-3D-k_ngtdm_Complexity</th>\n",
       "      <th>lbp-3D-k_ngtdm_Contrast</th>\n",
       "      <th>lbp-3D-k_ngtdm_Strength</th>\n",
       "    </tr>\n",
       "  </thead>\n",
       "  <tbody>\n",
       "    <tr>\n",
       "      <th>205</th>\n",
       "      <td>941_S_1311</td>\n",
       "      <td>/notebooks/disk2/DS2_FreeSurfer/ADNI_941_S_131...</td>\n",
       "      <td>/notebooks/disk2/DS2_FreeSurfer/ADNI_941_S_131...</td>\n",
       "      <td>2.2.0</td>\n",
       "      <td>1.18.5</td>\n",
       "      <td>1.2.4</td>\n",
       "      <td>1.1.1</td>\n",
       "      <td>3.7.7</td>\n",
       "      <td>{'minimumROIDimensions': 2, 'minimumROISize': ...</td>\n",
       "      <td>{'Original': {}, 'Wavelet': {}, 'LoG': {'sigma...</td>\n",
       "      <td>...</td>\n",
       "      <td>2.4371146800378662</td>\n",
       "      <td>0.1523196676734721</td>\n",
       "      <td>2.4158024044374153</td>\n",
       "      <td>0.007211793403330152</td>\n",
       "      <td>1244287.062067474</td>\n",
       "      <td>232.242746345953</td>\n",
       "      <td>0.0023257009233441867</td>\n",
       "      <td>0.04560164390810408</td>\n",
       "      <td>0.0010729758847075946</td>\n",
       "      <td>0.00238712612168457</td>\n",
       "    </tr>\n",
       "    <tr>\n",
       "      <th>153</th>\n",
       "      <td>131_S_0384</td>\n",
       "      <td>/notebooks/disk2/DS2_FreeSurfer/ADNI_131_S_038...</td>\n",
       "      <td>/notebooks/disk2/DS2_FreeSurfer/ADNI_131_S_038...</td>\n",
       "      <td>2.2.0</td>\n",
       "      <td>1.18.5</td>\n",
       "      <td>1.2.4</td>\n",
       "      <td>1.1.1</td>\n",
       "      <td>3.7.7</td>\n",
       "      <td>{'minimumROIDimensions': 2, 'minimumROISize': ...</td>\n",
       "      <td>{'Original': {}, 'Wavelet': {}, 'LoG': {'sigma...</td>\n",
       "      <td>...</td>\n",
       "      <td>2.1835634754282487</td>\n",
       "      <td>0.1364727173910492</td>\n",
       "      <td>2.54908547103493</td>\n",
       "      <td>0.006026268349214525</td>\n",
       "      <td>1530513.116078603</td>\n",
       "      <td>162.22075109488932</td>\n",
       "      <td>0.0032499481942662965</td>\n",
       "      <td>0.03169685423181441</td>\n",
       "      <td>0.0005259760406162057</td>\n",
       "      <td>0.003311307004887863</td>\n",
       "    </tr>\n",
       "    <tr>\n",
       "      <th>385</th>\n",
       "      <td>137_S_0631</td>\n",
       "      <td>/notebooks/disk2/DS2_FreeSurfer/ADNI_137_S_063...</td>\n",
       "      <td>/notebooks/disk2/DS2_FreeSurfer/ADNI_137_S_063...</td>\n",
       "      <td>2.2.0</td>\n",
       "      <td>1.18.5</td>\n",
       "      <td>1.2.4</td>\n",
       "      <td>1.1.1</td>\n",
       "      <td>3.7.7</td>\n",
       "      <td>{'minimumROIDimensions': 2, 'minimumROISize': ...</td>\n",
       "      <td>{'Original': {}, 'Wavelet': {}, 'LoG': {'sigma...</td>\n",
       "      <td>...</td>\n",
       "      <td>2.448151116081389</td>\n",
       "      <td>0.15300944496315566</td>\n",
       "      <td>2.1583535732183954</td>\n",
       "      <td>0.006497473204864775</td>\n",
       "      <td>1330957.6065454017</td>\n",
       "      <td>140.10008144210582</td>\n",
       "      <td>0.0037343700093773104</td>\n",
       "      <td>0.02974207637512507</td>\n",
       "      <td>0.0004107333694161449</td>\n",
       "      <td>0.0039355519232741505</td>\n",
       "    </tr>\n",
       "  </tbody>\n",
       "</table>\n",
       "<p>3 rows × 2178 columns</p>\n",
       "</div>"
      ],
      "text/plain": [
       "             ID                                              Image  \\\n",
       "205  941_S_1311  /notebooks/disk2/DS2_FreeSurfer/ADNI_941_S_131...   \n",
       "153  131_S_0384  /notebooks/disk2/DS2_FreeSurfer/ADNI_131_S_038...   \n",
       "385  137_S_0631  /notebooks/disk2/DS2_FreeSurfer/ADNI_137_S_063...   \n",
       "\n",
       "                                                  Mask  \\\n",
       "205  /notebooks/disk2/DS2_FreeSurfer/ADNI_941_S_131...   \n",
       "153  /notebooks/disk2/DS2_FreeSurfer/ADNI_131_S_038...   \n",
       "385  /notebooks/disk2/DS2_FreeSurfer/ADNI_137_S_063...   \n",
       "\n",
       "    diagnostics_Versions_PyRadiomics diagnostics_Versions_Numpy  \\\n",
       "205                            2.2.0                     1.18.5   \n",
       "153                            2.2.0                     1.18.5   \n",
       "385                            2.2.0                     1.18.5   \n",
       "\n",
       "    diagnostics_Versions_SimpleITK diagnostics_Versions_PyWavelet  \\\n",
       "205                          1.2.4                          1.1.1   \n",
       "153                          1.2.4                          1.1.1   \n",
       "385                          1.2.4                          1.1.1   \n",
       "\n",
       "    diagnostics_Versions_Python  \\\n",
       "205                       3.7.7   \n",
       "153                       3.7.7   \n",
       "385                       3.7.7   \n",
       "\n",
       "                    diagnostics_Configuration_Settings  \\\n",
       "205  {'minimumROIDimensions': 2, 'minimumROISize': ...   \n",
       "153  {'minimumROIDimensions': 2, 'minimumROISize': ...   \n",
       "385  {'minimumROIDimensions': 2, 'minimumROISize': ...   \n",
       "\n",
       "           diagnostics_Configuration_EnabledImageTypes  ...  \\\n",
       "205  {'Original': {}, 'Wavelet': {}, 'LoG': {'sigma...  ...   \n",
       "153  {'Original': {}, 'Wavelet': {}, 'LoG': {'sigma...  ...   \n",
       "385  {'Original': {}, 'Wavelet': {}, 'LoG': {'sigma...  ...   \n",
       "\n",
       "    lbp-3D-k_glszm_SmallAreaHighGrayLevelEmphasis  \\\n",
       "205                            2.4371146800378662   \n",
       "153                            2.1835634754282487   \n",
       "385                             2.448151116081389   \n",
       "\n",
       "    lbp-3D-k_glszm_SmallAreaLowGrayLevelEmphasis lbp-3D-k_glszm_ZoneEntropy  \\\n",
       "205                           0.1523196676734721         2.4158024044374153   \n",
       "153                           0.1364727173910492           2.54908547103493   \n",
       "385                          0.15300944496315566         2.1583535732183954   \n",
       "\n",
       "    lbp-3D-k_glszm_ZonePercentage  lbp-3D-k_glszm_ZoneVariance  \\\n",
       "205          0.007211793403330152            1244287.062067474   \n",
       "153          0.006026268349214525            1530513.116078603   \n",
       "385          0.006497473204864775           1330957.6065454017   \n",
       "\n",
       "     lbp-3D-k_ngtdm_Busyness  lbp-3D-k_ngtdm_Coarseness  \\\n",
       "205         232.242746345953      0.0023257009233441867   \n",
       "153       162.22075109488932      0.0032499481942662965   \n",
       "385       140.10008144210582      0.0037343700093773104   \n",
       "\n",
       "    lbp-3D-k_ngtdm_Complexity lbp-3D-k_ngtdm_Contrast lbp-3D-k_ngtdm_Strength  \n",
       "205       0.04560164390810408   0.0010729758847075946     0.00238712612168457  \n",
       "153       0.03169685423181441   0.0005259760406162057    0.003311307004887863  \n",
       "385       0.02974207637512507   0.0004107333694161449   0.0039355519232741505  \n",
       "\n",
       "[3 rows x 2178 columns]"
      ]
     },
     "execution_count": 14,
     "metadata": {},
     "output_type": "execute_result"
    }
   ],
   "source": [
    "def cria_CSV_radiomics_all(PATH_CSV_RADIOMICS_ALL,all_df):\n",
    "    full_df = pd.DataFrame([dict(**c_row.pop('radiomics'), **c_row) for _, c_row in all_df.iterrows()])\n",
    "    print(full_df.shape, 'data prepared')\n",
    "    first_cols = all_df.columns[:-1].tolist()\n",
    "    full_df = full_df[first_cols + [c_col for c_col in full_df.columns if c_col not in first_cols]]\n",
    "    # export the whole table\n",
    "    full_df.to_csv('D2.all_radiomics_occipital_controlo.csv', index=False)\n",
    "    return full_df\n",
    "    full_df.sample(3)\n",
    "\n",
    "full_df=cria_CSV_radiomics_all(PATH_CSV_RADIOMICS_ALL, all_df)\n",
    "full_df.sample(3)"
   ]
  },
  {
   "cell_type": "code",
   "execution_count": null,
   "metadata": {},
   "outputs": [],
   "source": []
  }
 ],
 "metadata": {
  "kernelspec": {
   "display_name": "Python 3",
   "language": "python",
   "name": "python3"
  },
  "language_info": {
   "codemirror_mode": {
    "name": "ipython",
    "version": 3
   },
   "file_extension": ".py",
   "mimetype": "text/x-python",
   "name": "python",
   "nbconvert_exporter": "python",
   "pygments_lexer": "ipython3",
   "version": "3.7.7"
  }
 },
 "nbformat": 4,
 "nbformat_minor": 4
}
