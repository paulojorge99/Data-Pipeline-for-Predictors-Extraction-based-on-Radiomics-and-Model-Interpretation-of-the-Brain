{
 "cells": [
  {
   "cell_type": "markdown",
   "metadata": {},
   "source": [
    "# 5-ADNI_Segment_processing - entorhinal"
   ]
  },
  {
   "cell_type": "code",
   "execution_count": 2,
   "metadata": {},
   "outputs": [],
   "source": [
    "import os  # needed navigate the system to get the input data\n",
    "import glob\n",
    "\n",
    "import matplotlib.pyplot as plt\n",
    "from ipywidgets import widgets, interact\n",
    "%matplotlib inline\n",
    "\n",
    "import numpy as np\n",
    "import pandas as pd\n",
    "#import six\n",
    "\n",
    "import nibabel as nib"
   ]
  },
  {
   "cell_type": "code",
   "execution_count": 46,
   "metadata": {},
   "outputs": [
    {
     "name": "stdout",
     "output_type": "stream",
     "text": [
      "Parameter file, absolute path: /notebooks/disk2/params.yaml\n"
     ]
    }
   ],
   "source": [
    "#constants\n",
    "PATH_SCANS = \"/notebooks/disk2/DS2_FreeSurfer/\"\n",
    "#PATH_SCANS = \"/notebooks/disk2/Paulo_MCI_AD/DS2_FreeSurfer/\"\n",
    "\n",
    "# Additonally, store the location of the example parameter file, stored in \\pyradiomics\\bin\n",
    "#PATH_PARAM = os.path.join(os.getcwd(), \"..\", \"Params.yaml\")\n",
    "PATH_PARAM = \"params.yaml\"\n",
    "print(\"Parameter file, absolute path:\", os.path.abspath(PATH_PARAM))\n",
    "\n",
    "PATH_CSV_FREESURFER_FILES = 'paths_entorhinal.csv'\n",
    "#PATH_CSV_FREESURFER_FILES = 'paths_freesurfer_valves2.csv'\n",
    "PATH_CSV_RADIOMICS_ALL = 'D1.all_radiomics_entorhinal.csv'"
   ]
  },
  {
   "cell_type": "markdown",
   "metadata": {},
   "source": [
    "### Setting up data"
   ]
  },
  {
   "cell_type": "code",
   "execution_count": 25,
   "metadata": {},
   "outputs": [
    {
     "name": "stdout",
     "output_type": "stream",
     "text": [
      "Parameter file, absolute path: /notebooks/disk2/params.yaml\n"
     ]
    }
   ],
   "source": [
    "# Get the paths \".mgz\"\n",
    "\n",
    "paths = {}\n",
    "def percorrePasta(pasta, barrasIniciais):\n",
    "    if barrasIniciais == 0:\n",
    "        barrasIniciais = len(pasta.split(\"/\"))-1\n",
    "    files = []\n",
    "    for f in glob.glob(pasta):\n",
    "        if(os.path.isdir(f + \"/\")):\n",
    "            f = f + \"/*\"\n",
    "            files += percorrePasta(f, barrasIniciais)\n",
    "        else:\n",
    "            if(os.path.splitext(f)[1] == \".mgz\" ):\n",
    "                nomeFicheiro = f.split(\"/\")[2+barrasIniciais]\n",
    "                numeroPaciente = f.split(\"/\")[barrasIniciais][5:15]\n",
    "                if nomeFicheiro == \"aparc+aseg.mgz\" or nomeFicheiro == \"brain.mgz\" :\n",
    "                    if numeroPaciente not in paths:\n",
    "                        paths[numeroPaciente] = {\"aparc+aseg\": \"\", \"brain\": \"\", \"hipocampo\": \"\", \"diretorio\": \"\"}\n",
    "                    paths[numeroPaciente][nomeFicheiro.replace(\".mgz\", \"\")] = f\n",
    "                    paths[numeroPaciente][\"diretorio\"] = f.replace(nomeFicheiro, \"\")\n",
    "                    \n",
    "                        \n",
    "    return paths\n",
    "\n",
    "percorrePasta(\"/notebooks/disk2/DS2_FreeSurfer/*\", 0) #paths já está alterado\n",
    "#percorrePasta(\"/notebooks/disk2/Paulo_MCI_AD/DS2_FreeSurfer/*\", 0) #paths já está alterado\n",
    "\n",
    "# Additonally, store the location of the example parameter file, stored in \\pyradiomics\\bin\n",
    "#paramPath = os.path.join(os.getcwd(), \"..\", \"Params.yaml\")\n",
    "paramPath = \"params.yaml\"\n",
    "print(\"Parameter file, absolute path:\", os.path.abspath(paramPath))\n"
   ]
  },
  {
   "cell_type": "code",
   "execution_count": 26,
   "metadata": {},
   "outputs": [
    {
     "name": "stdout",
     "output_type": "stream",
     "text": [
      "{'aparc+aseg': '/notebooks/disk2/DS2_FreeSurfer/ADNI_006_S_0681_MR_MP-RAGE__br_raw_20060831143335593_1_S18451_I23677_generate/mri/aparc+aseg.mgz', 'brain': '/notebooks/disk2/DS2_FreeSurfer/ADNI_006_S_0681_MR_MP-RAGE__br_raw_20060831143335593_1_S18451_I23677_generate/mri/brain.mgz', 'hipocampo': '', 'diretorio': '/notebooks/disk2/DS2_FreeSurfer/ADNI_006_S_0681_MR_MP-RAGE__br_raw_20060831143335593_1_S18451_I23677_generate/mri/'}\n",
      "{'aparc+aseg': '/notebooks/disk2/DS2_FreeSurfer/ADNI_002_S_0295_MR_MP-RAGE__br_raw_20060418193713091_1_S13408_I13722_generate/mri/aparc+aseg.mgz', 'brain': '/notebooks/disk2/DS2_FreeSurfer/ADNI_002_S_0295_MR_MP-RAGE__br_raw_20060418193713091_1_S13408_I13722_generate/mri/brain.mgz', 'hipocampo': '', 'diretorio': '/notebooks/disk2/DS2_FreeSurfer/ADNI_002_S_0295_MR_MP-RAGE__br_raw_20060418193713091_1_S13408_I13722_generate/mri/'}\n"
     ]
    }
   ],
   "source": [
    "print(paths[\"006_S_0681\"])\n",
    "print(paths[\"002_S_0295\"])"
   ]
  },
  {
   "cell_type": "code",
   "execution_count": null,
   "metadata": {},
   "outputs": [],
   "source": [
    "#Create files .nii.gz\n",
    "\n",
    "#for paciente in paths:\n",
    "    #brain = paths[paciente][\"brain\"][:-4]\n",
    "    #aparcaseg = paths[paciente][\"aparc+aseg\"][:-4]\n",
    "    #print(aparcaseg)\n",
    "    #img_brain = nib.load(f\"{brain}.mgz\")\n",
    "    #nib.save(img_brain , f\"{brain}.nii.gz\")\n",
    "    #print(\"done_brain\")\n",
    "    \n",
    "    #img_aparc_aseg = nib.load(f\"{aparcaseg}.mgz\")\n",
    "    #nib.save(img_aparc_aseg , f\"{aparcaseg}.nii.gz\")\n",
    "    #print(\"done_aparc-aseg\")"
   ]
  },
  {
   "cell_type": "code",
   "execution_count": 30,
   "metadata": {},
   "outputs": [
    {
     "name": "stdout",
     "output_type": "stream",
     "text": [
      "{'aparc+aseg': '/notebooks/disk2/DS2_FreeSurfer/ADNI_006_S_0681_MR_MP-RAGE__br_raw_20060831143335593_1_S18451_I23677_generate/mri/aparc+aseg.nii.gz', 'brain': '/notebooks/disk2/DS2_FreeSurfer/ADNI_006_S_0681_MR_MP-RAGE__br_raw_20060831143335593_1_S18451_I23677_generate/mri/brain.nii.gz', 'diretorio': '/notebooks/disk2/DS2_FreeSurfer/ADNI_006_S_0681_MR_MP-RAGE__br_raw_20060831143335593_1_S18451_I23677_generate/mri/'}\n",
      "{'aparc+aseg': '/notebooks/disk2/DS2_FreeSurfer/ADNI_002_S_0295_MR_MP-RAGE__br_raw_20060418193713091_1_S13408_I13722_generate/mri/aparc+aseg.nii.gz', 'brain': '/notebooks/disk2/DS2_FreeSurfer/ADNI_002_S_0295_MR_MP-RAGE__br_raw_20060418193713091_1_S13408_I13722_generate/mri/brain.nii.gz', 'diretorio': '/notebooks/disk2/DS2_FreeSurfer/ADNI_002_S_0295_MR_MP-RAGE__br_raw_20060418193713091_1_S13408_I13722_generate/mri/'}\n"
     ]
    }
   ],
   "source": [
    "# Get the paths \".nii.gz\"\n",
    "\n",
    "paths_nii = {}\n",
    "def percorrePasta_2(pasta, barrasIniciais):\n",
    "    if barrasIniciais == 0:\n",
    "        barrasIniciais = len(pasta.split(\"/\"))-1\n",
    "    files = []\n",
    "    for f in glob.glob(pasta):\n",
    "        if(os.path.isdir(f + \"/\")):\n",
    "            f = f + \"/*\"\n",
    "            files += percorrePasta_2(f, barrasIniciais)\n",
    "        else:\n",
    "            if(os.path.splitext(f)[1] == \".gz\" ):\n",
    "                nomeFicheiro = f.split(\"/\")[2+barrasIniciais]\n",
    "                numeroPaciente = f.split(\"/\")[barrasIniciais][5:15]\n",
    "                if nomeFicheiro == \"aparc+aseg.nii.gz\" or nomeFicheiro == \"brain.nii.gz\" :\n",
    "                    if numeroPaciente not in paths_nii:\n",
    "                        paths_nii[numeroPaciente] = {\"aparc+aseg\": \"\", \"brain\": \"\", \"diretorio\": \"\"}\n",
    "                    paths_nii[numeroPaciente][nomeFicheiro.replace(\".nii.gz\", \"\")] = f\n",
    "                    paths_nii[numeroPaciente][\"diretorio\"] = f.replace(nomeFicheiro, \"\")\n",
    "                        \n",
    "    return paths_nii\n",
    "\n",
    "percorrePasta_2(PATH_SCANS+'*', 0) #paths já está alterado\n",
    "#percorrePasta(\"/notebooks/disk2/Paulo_MCI_AD/DS2_FreeSurfer/*\", 0) #paths já está alterado\n",
    "print(paths_nii[\"006_S_0681\"])\n",
    "print(paths_nii[\"002_S_0295\"])\n"
   ]
  },
  {
   "cell_type": "code",
   "execution_count": 31,
   "metadata": {},
   "outputs": [],
   "source": [
    "# label selection\n",
    "#img = nib.load(labelPath).get_fdata()\n",
    "#print(type(img))\n",
    "\n",
    "def get_labelnp_from_mgz(labelPath, regionlist):\n",
    "    nplabel = nib.load(labelPath).get_fdata()\n",
    "    for reg in regionlist:\n",
    "        nplabel[nplabel == reg] =-1\n",
    "    nplabel[nplabel != -1] =0\n",
    "    nplabel[nplabel == -1] =1\n",
    "    return nplabel\n",
    "\n",
    "#label_hp=get_labelnp_from_mgz(labelPath, [17,53])\n",
    "#print(label_hp)"
   ]
  },
  {
   "cell_type": "code",
   "execution_count": 33,
   "metadata": {},
   "outputs": [
    {
     "data": {
      "image/png": "[encoded data removed]",
      "text/plain": [
       "<Figure size 432x288 with 1 Axes>"
      ]
     },
     "metadata": {
      "needs_background": "light"
     },
     "output_type": "display_data"
    },
    {
     "data": {
      "image/png": "[encoded data removed]",
      "text/plain": [
       "<Figure size 432x288 with 1 Axes>"
      ]
     },
     "metadata": {
      "needs_background": "light"
     },
     "output_type": "display_data"
    }
   ],
   "source": [
    "def display_mask(subject):\n",
    "    label = get_labelnp_from_mgz(paths_nii[subject][\"aparc+aseg\"], [1006,2006])\n",
    "    plt.imshow(np.sum((label>0).astype(float), 0), cmap=\"gray\")\n",
    "    plt.show()\n",
    "\n",
    "display_mask(\"006_S_0681\")\n",
    "display_mask(\"002_S_0295\")"
   ]
  },
  {
   "cell_type": "code",
   "execution_count": 36,
   "metadata": {},
   "outputs": [
    {
     "data": {
      "application/vnd.jupyter.widget-view+json": {
       "model_id": "d75069ed4e2a45398434cc2901e9def3",
       "version_major": 2,
       "version_minor": 0
      },
      "text/plain": [
       "interactive(children=(Dropdown(description='subject', options=('006_S_0681', '941_S_1203', '011_S_0003', '057_…"
      ]
     },
     "metadata": {},
     "output_type": "display_data"
    }
   ],
   "source": [
    "# Display the images\n",
    "\n",
    "list_subject = list(paths_nii.keys())\n",
    "@interact \n",
    "def display_img_mask(subject=list_subject):\n",
    "    #example ADNI_002_S_0295\n",
    "    print(paths_nii[subject][\"brain\"]) \n",
    "    img = nib.load(paths_nii[subject][\"brain\"]).get_fdata()\n",
    "    print(img.shape)\n",
    "\n",
    "    print(paths_nii[subject][\"aparc+aseg\"]) \n",
    "    label = get_labelnp_from_mgz(paths_nii[subject][\"aparc+aseg\"], [1006,2006])\n",
    "    print(label.shape)\n",
    "\n",
    "    @interact\n",
    "    def viewer_scan(i=(60,200)):\n",
    "        plt.figure(figsize=(15,15))\n",
    "        plt.subplot(2,2,1)\n",
    "        plt.imshow(img[i,:,:], cmap=\"gray\")        \n",
    "        plt.title(\"Img\")\n",
    "        plt.subplot(2,2,2)\n",
    "        plt.imshow(label[i,:,:])        \n",
    "        plt.title(\"Segmentation\")\n",
    "        plt.show()\n"
   ]
  },
  {
   "cell_type": "code",
   "execution_count": 38,
   "metadata": {},
   "outputs": [],
   "source": [
    "#save paths in CSV\n",
    "def create_path_freesurfer_csv(paths_dic,path_csv): \n",
    "    colunas = [\"ID\", \"Image\", \"Mask\"]\n",
    "    df = pd.DataFrame([],columns=colunas)\n",
    "    for paciente in paths_dic:\n",
    "        coluna1 = paths_dic[paciente][\"brain\"]\n",
    "        coluna2 = paths_dic[paciente][\"aparc+aseg\"]\n",
    "        lista = [paciente, coluna1, coluna2]\n",
    "        df.loc[df.shape[0]] = lista \n",
    "\n",
    "    df.to_csv(path_csv, index=False)\n",
    "\n",
    "create_path_freesurfer_csv(paths_nii,PATH_CSV_FREESURFER_FILES)"
   ]
  },
  {
   "cell_type": "markdown",
   "metadata": {},
   "source": [
    "### Segment Radiomics Extraction"
   ]
  },
  {
   "cell_type": "code",
   "execution_count": 39,
   "metadata": {},
   "outputs": [],
   "source": [
    "#from mpl_toolkits.mplot3d import Axes3D\n",
    "#import seaborn as sns\n",
    "#import h5py # for reading the image files\n",
    "#import skimage # for image processing and visualizations\n",
    "#import sklearn # for machine learning and statistical models\n",
    "\n",
    "from pathlib import Path # help manage files\n",
    "from SimpleITK import GetImageFromArray\n",
    "import radiomics\n",
    "from radiomics import featureextractor\n",
    "from radiomics.featureextractor import RadiomicsFeatureExtractor # This module is used for interaction with pyradiomic\n",
    "import logging\n",
    "logging.getLogger('radiomics').setLevel(logging.CRITICAL + 1)  # this tool makes a whole TON of log noise"
   ]
  },
  {
   "cell_type": "code",
   "execution_count": 40,
   "metadata": {},
   "outputs": [
    {
     "name": "stdout",
     "output_type": "stream",
     "text": [
      "Extraction parameters:\n",
      "\t {'minimumROIDimensions': 2, 'minimumROISize': None, 'normalize': False, 'normalizeScale': 1, 'removeOutliers': None, 'resampledPixelSpacing': None, 'interpolator': 'sitkBSpline', 'preCrop': False, 'padDistance': 5, 'distances': [1], 'force2D': False, 'force2Ddimension': 0, 'resegmentRange': None, 'label': 1, 'additionalInfo': True}\n",
      "Enabled filters:\n",
      "\t {'Original': {}, 'Wavelet': {}, 'LoG': {'sigma': [1.0, 2.0, 3.0, 4.0, 5.0]}, 'Square': {}, 'SquareRoot': {}, 'Logarithm': {}, 'Exponential': {}, 'Gradient': {}, 'LBP2D': {}, 'LBP3D': {}}\n",
      "Enabled features:\n",
      "\t {'firstorder': [], 'glcm': [], 'gldm': [], 'glrlm': [], 'glszm': [], 'ngtdm': [], 'shape': [], 'shape2D': []}\n"
     ]
    }
   ],
   "source": [
    "extractor = featureextractor.RadiomicsFeatureExtractor(PATH_PARAM)\n",
    "print('Extraction parameters:\\n\\t', extractor.settings)\n",
    "print('Enabled filters:\\n\\t', extractor.enabledImagetypes)\n",
    "print('Enabled features:\\n\\t', extractor.enabledFeatures)"
   ]
  },
  {
   "cell_type": "code",
   "execution_count": 53,
   "metadata": {},
   "outputs": [
    {
     "name": "stdout",
     "output_type": "stream",
     "text": [
      "CPU times: user 45 s, sys: 17.8 s, total: 1min 2s\n",
      "Wall time: 37.1 s\n"
     ]
    },
    {
     "data": {
      "text/html": [
       "<div>\n",
       "<style scoped>\n",
       "    .dataframe tbody tr th:only-of-type {\n",
       "        vertical-align: middle;\n",
       "    }\n",
       "\n",
       "    .dataframe tbody tr th {\n",
       "        vertical-align: top;\n",
       "    }\n",
       "\n",
       "    .dataframe thead th {\n",
       "        text-align: right;\n",
       "    }\n",
       "</style>\n",
       "<table border=\"1\" class=\"dataframe\">\n",
       "  <thead>\n",
       "    <tr style=\"text-align: right;\">\n",
       "      <th></th>\n",
       "      <th>0</th>\n",
       "    </tr>\n",
       "  </thead>\n",
       "  <tbody>\n",
       "    <tr>\n",
       "      <th>diagnostics_Versions_PyRadiomics</th>\n",
       "      <td>2.2.0</td>\n",
       "    </tr>\n",
       "    <tr>\n",
       "      <th>diagnostics_Versions_Numpy</th>\n",
       "      <td>1.18.5</td>\n",
       "    </tr>\n",
       "    <tr>\n",
       "      <th>diagnostics_Versions_SimpleITK</th>\n",
       "      <td>1.2.4</td>\n",
       "    </tr>\n",
       "    <tr>\n",
       "      <th>diagnostics_Versions_PyWavelet</th>\n",
       "      <td>1.1.1</td>\n",
       "    </tr>\n",
       "    <tr>\n",
       "      <th>diagnostics_Versions_Python</th>\n",
       "      <td>3.7.7</td>\n",
       "    </tr>\n",
       "    <tr>\n",
       "      <th>...</th>\n",
       "      <td>...</td>\n",
       "    </tr>\n",
       "    <tr>\n",
       "      <th>lbp-3D-k_ngtdm_Busyness</th>\n",
       "      <td>144.5442739941008</td>\n",
       "    </tr>\n",
       "    <tr>\n",
       "      <th>lbp-3D-k_ngtdm_Coarseness</th>\n",
       "      <td>0.0042501577882001285</td>\n",
       "    </tr>\n",
       "    <tr>\n",
       "      <th>lbp-3D-k_ngtdm_Complexity</th>\n",
       "      <td>0.11228126093651793</td>\n",
       "    </tr>\n",
       "    <tr>\n",
       "      <th>lbp-3D-k_ngtdm_Contrast</th>\n",
       "      <td>0.006315239686314246</td>\n",
       "    </tr>\n",
       "    <tr>\n",
       "      <th>lbp-3D-k_ngtdm_Strength</th>\n",
       "      <td>0.004397071895178784</td>\n",
       "    </tr>\n",
       "  </tbody>\n",
       "</table>\n",
       "<p>2175 rows × 1 columns</p>\n",
       "</div>"
      ],
      "text/plain": [
       "                                                      0\n",
       "diagnostics_Versions_PyRadiomics                  2.2.0\n",
       "diagnostics_Versions_Numpy                       1.18.5\n",
       "diagnostics_Versions_SimpleITK                    1.2.4\n",
       "diagnostics_Versions_PyWavelet                    1.1.1\n",
       "diagnostics_Versions_Python                       3.7.7\n",
       "...                                                 ...\n",
       "lbp-3D-k_ngtdm_Busyness               144.5442739941008\n",
       "lbp-3D-k_ngtdm_Coarseness         0.0042501577882001285\n",
       "lbp-3D-k_ngtdm_Complexity           0.11228126093651793\n",
       "lbp-3D-k_ngtdm_Contrast            0.006315239686314246\n",
       "lbp-3D-k_ngtdm_Strength            0.004397071895178784\n",
       "\n",
       "[2175 rows x 1 columns]"
      ]
     },
     "execution_count": 53,
     "metadata": {},
     "output_type": "execute_result"
    }
   ],
   "source": [
    "%%time\n",
    "#TEST1\n",
    "\n",
    "def calc_radiomics(in_image_data, in_mask_data):\n",
    "    return extractor.execute(GetImageFromArray(in_image_data),\n",
    "                            GetImageFromArray((in_mask_data>0).astype(np.uint8)))\n",
    "\n",
    "def calc_radiomics_files(in_image_file, in_mask_file):\n",
    "    img = nib.load(in_image_file).get_fdata()\n",
    "    mask = get_labelnp_from_mgz(in_mask_file, [1006,2006])\n",
    "    return extractor.execute(GetImageFromArray(img),\n",
    "                            GetImageFromArray((mask>0).astype(np.uint8)))\n",
    "\n",
    "def test_rad_extration(subject):\n",
    "    img = nib.load(paths_nii[subject][\"brain\"]).get_fdata()\n",
    "    mask = get_labelnp_from_mgz(paths_nii[subject][\"aparc+aseg\"], [1006,2006])\n",
    "    results = calc_radiomics((img,mask))\n",
    "    return pd.DataFrame([results]).T\n",
    "\n",
    "def test_rad_extration_files(subject):\n",
    "    results = calc_radiomics_files(paths_nii[subject][\"brain\"],paths_nii[subject][\"aparc+aseg\"])\n",
    "    return pd.DataFrame([results]).T\n",
    "\n",
    "test_rad_extration_files(\"006_S_0681\")"
   ]
  },
  {
   "cell_type": "code",
   "execution_count": null,
   "metadata": {},
   "outputs": [],
   "source": [
    "%%time\n",
    "#TEST2\n",
    "#ERROR\n",
    "test_rad_extration(\"941_S_1203\")"
   ]
  },
  {
   "cell_type": "code",
   "execution_count": 47,
   "metadata": {},
   "outputs": [
    {
     "data": {
      "text/html": [
       "<div>\n",
       "<style scoped>\n",
       "    .dataframe tbody tr th:only-of-type {\n",
       "        vertical-align: middle;\n",
       "    }\n",
       "\n",
       "    .dataframe tbody tr th {\n",
       "        vertical-align: top;\n",
       "    }\n",
       "\n",
       "    .dataframe thead th {\n",
       "        text-align: right;\n",
       "    }\n",
       "</style>\n",
       "<table border=\"1\" class=\"dataframe\">\n",
       "  <thead>\n",
       "    <tr style=\"text-align: right;\">\n",
       "      <th></th>\n",
       "      <th>ID</th>\n",
       "      <th>Image</th>\n",
       "      <th>Mask</th>\n",
       "    </tr>\n",
       "  </thead>\n",
       "  <tbody>\n",
       "    <tr>\n",
       "      <th>0</th>\n",
       "      <td>006_S_0681</td>\n",
       "      <td>/notebooks/disk2/DS2_FreeSurfer/ADNI_006_S_068...</td>\n",
       "      <td>/notebooks/disk2/DS2_FreeSurfer/ADNI_006_S_068...</td>\n",
       "    </tr>\n",
       "    <tr>\n",
       "      <th>1</th>\n",
       "      <td>941_S_1203</td>\n",
       "      <td>/notebooks/disk2/DS2_FreeSurfer/ADNI_941_S_120...</td>\n",
       "      <td>/notebooks/disk2/DS2_FreeSurfer/ADNI_941_S_120...</td>\n",
       "    </tr>\n",
       "    <tr>\n",
       "      <th>2</th>\n",
       "      <td>011_S_0003</td>\n",
       "      <td>/notebooks/disk2/DS2_FreeSurfer/ADNI_011_S_000...</td>\n",
       "      <td>/notebooks/disk2/DS2_FreeSurfer/ADNI_011_S_000...</td>\n",
       "    </tr>\n",
       "    <tr>\n",
       "      <th>3</th>\n",
       "      <td>057_S_0779</td>\n",
       "      <td>/notebooks/disk2/DS2_FreeSurfer/ADNI_057_S_077...</td>\n",
       "      <td>/notebooks/disk2/DS2_FreeSurfer/ADNI_057_S_077...</td>\n",
       "    </tr>\n",
       "    <tr>\n",
       "      <th>4</th>\n",
       "      <td>033_S_0920</td>\n",
       "      <td>/notebooks/disk2/DS2_FreeSurfer/ADNI_033_S_092...</td>\n",
       "      <td>/notebooks/disk2/DS2_FreeSurfer/ADNI_033_S_092...</td>\n",
       "    </tr>\n",
       "  </tbody>\n",
       "</table>\n",
       "</div>"
      ],
      "text/plain": [
       "           ID                                              Image  \\\n",
       "0  006_S_0681  /notebooks/disk2/DS2_FreeSurfer/ADNI_006_S_068...   \n",
       "1  941_S_1203  /notebooks/disk2/DS2_FreeSurfer/ADNI_941_S_120...   \n",
       "2  011_S_0003  /notebooks/disk2/DS2_FreeSurfer/ADNI_011_S_000...   \n",
       "3  057_S_0779  /notebooks/disk2/DS2_FreeSurfer/ADNI_057_S_077...   \n",
       "4  033_S_0920  /notebooks/disk2/DS2_FreeSurfer/ADNI_033_S_092...   \n",
       "\n",
       "                                                Mask  \n",
       "0  /notebooks/disk2/DS2_FreeSurfer/ADNI_006_S_068...  \n",
       "1  /notebooks/disk2/DS2_FreeSurfer/ADNI_941_S_120...  \n",
       "2  /notebooks/disk2/DS2_FreeSurfer/ADNI_011_S_000...  \n",
       "3  /notebooks/disk2/DS2_FreeSurfer/ADNI_057_S_077...  \n",
       "4  /notebooks/disk2/DS2_FreeSurfer/ADNI_033_S_092...  "
      ]
     },
     "execution_count": 47,
     "metadata": {},
     "output_type": "execute_result"
    }
   ],
   "source": [
    "all_df=pd.read_csv(PATH_CSV_FREESURFER_FILES)\n",
    "all_df.head() # show the first lines"
   ]
  },
  {
   "cell_type": "code",
   "execution_count": 55,
   "metadata": {},
   "outputs": [
    {
     "name": "stdout",
     "output_type": "stream",
     "text": [
      "CPU times: user 5h 18min 33s, sys: 3h 25min 37s, total: 8h 44min 11s\n",
      "Wall time: 5h 51min 47s\n"
     ]
    },
    {
     "data": {
      "text/html": [
       "<div>\n",
       "<style scoped>\n",
       "    .dataframe tbody tr th:only-of-type {\n",
       "        vertical-align: middle;\n",
       "    }\n",
       "\n",
       "    .dataframe tbody tr th {\n",
       "        vertical-align: top;\n",
       "    }\n",
       "\n",
       "    .dataframe thead th {\n",
       "        text-align: right;\n",
       "    }\n",
       "</style>\n",
       "<table border=\"1\" class=\"dataframe\">\n",
       "  <thead>\n",
       "    <tr style=\"text-align: right;\">\n",
       "      <th></th>\n",
       "      <th>ID</th>\n",
       "      <th>Image</th>\n",
       "      <th>Mask</th>\n",
       "      <th>radiomics</th>\n",
       "    </tr>\n",
       "  </thead>\n",
       "  <tbody>\n",
       "    <tr>\n",
       "      <th>0</th>\n",
       "      <td>006_S_0681</td>\n",
       "      <td>/notebooks/disk2/DS2_FreeSurfer/ADNI_006_S_068...</td>\n",
       "      <td>/notebooks/disk2/DS2_FreeSurfer/ADNI_006_S_068...</td>\n",
       "      <td>{'diagnostics_Versions_PyRadiomics': '2.2.0', ...</td>\n",
       "    </tr>\n",
       "    <tr>\n",
       "      <th>1</th>\n",
       "      <td>941_S_1203</td>\n",
       "      <td>/notebooks/disk2/DS2_FreeSurfer/ADNI_941_S_120...</td>\n",
       "      <td>/notebooks/disk2/DS2_FreeSurfer/ADNI_941_S_120...</td>\n",
       "      <td>{'diagnostics_Versions_PyRadiomics': '2.2.0', ...</td>\n",
       "    </tr>\n",
       "    <tr>\n",
       "      <th>2</th>\n",
       "      <td>011_S_0003</td>\n",
       "      <td>/notebooks/disk2/DS2_FreeSurfer/ADNI_011_S_000...</td>\n",
       "      <td>/notebooks/disk2/DS2_FreeSurfer/ADNI_011_S_000...</td>\n",
       "      <td>{'diagnostics_Versions_PyRadiomics': '2.2.0', ...</td>\n",
       "    </tr>\n",
       "    <tr>\n",
       "      <th>3</th>\n",
       "      <td>057_S_0779</td>\n",
       "      <td>/notebooks/disk2/DS2_FreeSurfer/ADNI_057_S_077...</td>\n",
       "      <td>/notebooks/disk2/DS2_FreeSurfer/ADNI_057_S_077...</td>\n",
       "      <td>{'diagnostics_Versions_PyRadiomics': '2.2.0', ...</td>\n",
       "    </tr>\n",
       "    <tr>\n",
       "      <th>4</th>\n",
       "      <td>033_S_0920</td>\n",
       "      <td>/notebooks/disk2/DS2_FreeSurfer/ADNI_033_S_092...</td>\n",
       "      <td>/notebooks/disk2/DS2_FreeSurfer/ADNI_033_S_092...</td>\n",
       "      <td>{'diagnostics_Versions_PyRadiomics': '2.2.0', ...</td>\n",
       "    </tr>\n",
       "  </tbody>\n",
       "</table>\n",
       "</div>"
      ],
      "text/plain": [
       "           ID                                              Image  \\\n",
       "0  006_S_0681  /notebooks/disk2/DS2_FreeSurfer/ADNI_006_S_068...   \n",
       "1  941_S_1203  /notebooks/disk2/DS2_FreeSurfer/ADNI_941_S_120...   \n",
       "2  011_S_0003  /notebooks/disk2/DS2_FreeSurfer/ADNI_011_S_000...   \n",
       "3  057_S_0779  /notebooks/disk2/DS2_FreeSurfer/ADNI_057_S_077...   \n",
       "4  033_S_0920  /notebooks/disk2/DS2_FreeSurfer/ADNI_033_S_092...   \n",
       "\n",
       "                                                Mask  \\\n",
       "0  /notebooks/disk2/DS2_FreeSurfer/ADNI_006_S_068...   \n",
       "1  /notebooks/disk2/DS2_FreeSurfer/ADNI_941_S_120...   \n",
       "2  /notebooks/disk2/DS2_FreeSurfer/ADNI_011_S_000...   \n",
       "3  /notebooks/disk2/DS2_FreeSurfer/ADNI_057_S_077...   \n",
       "4  /notebooks/disk2/DS2_FreeSurfer/ADNI_033_S_092...   \n",
       "\n",
       "                                           radiomics  \n",
       "0  {'diagnostics_Versions_PyRadiomics': '2.2.0', ...  \n",
       "1  {'diagnostics_Versions_PyRadiomics': '2.2.0', ...  \n",
       "2  {'diagnostics_Versions_PyRadiomics': '2.2.0', ...  \n",
       "3  {'diagnostics_Versions_PyRadiomics': '2.2.0', ...  \n",
       "4  {'diagnostics_Versions_PyRadiomics': '2.2.0', ...  "
      ]
     },
     "execution_count": 55,
     "metadata": {},
     "output_type": "execute_result"
    }
   ],
   "source": [
    "%%time\n",
    "\n",
    "all_df['radiomics'] = all_df.apply(lambda row: calc_radiomics_files(row[ \"Image\"], row[\"Mask\"]) ,axis = 1)\n",
    "\n",
    "all_df.head() "
   ]
  },
  {
   "cell_type": "code",
   "execution_count": 57,
   "metadata": {},
   "outputs": [
    {
     "name": "stdout",
     "output_type": "stream",
     "text": [
      "(426, 2178) data prepared\n"
     ]
    },
    {
     "data": {
      "text/html": [
       "<div>\n",
       "<style scoped>\n",
       "    .dataframe tbody tr th:only-of-type {\n",
       "        vertical-align: middle;\n",
       "    }\n",
       "\n",
       "    .dataframe tbody tr th {\n",
       "        vertical-align: top;\n",
       "    }\n",
       "\n",
       "    .dataframe thead th {\n",
       "        text-align: right;\n",
       "    }\n",
       "</style>\n",
       "<table border=\"1\" class=\"dataframe\">\n",
       "  <thead>\n",
       "    <tr style=\"text-align: right;\">\n",
       "      <th></th>\n",
       "      <th>ID</th>\n",
       "      <th>Image</th>\n",
       "      <th>Mask</th>\n",
       "      <th>diagnostics_Versions_PyRadiomics</th>\n",
       "      <th>diagnostics_Versions_Numpy</th>\n",
       "      <th>diagnostics_Versions_SimpleITK</th>\n",
       "      <th>diagnostics_Versions_PyWavelet</th>\n",
       "      <th>diagnostics_Versions_Python</th>\n",
       "      <th>diagnostics_Configuration_Settings</th>\n",
       "      <th>diagnostics_Configuration_EnabledImageTypes</th>\n",
       "      <th>...</th>\n",
       "      <th>lbp-3D-k_glszm_SmallAreaHighGrayLevelEmphasis</th>\n",
       "      <th>lbp-3D-k_glszm_SmallAreaLowGrayLevelEmphasis</th>\n",
       "      <th>lbp-3D-k_glszm_ZoneEntropy</th>\n",
       "      <th>lbp-3D-k_glszm_ZonePercentage</th>\n",
       "      <th>lbp-3D-k_glszm_ZoneVariance</th>\n",
       "      <th>lbp-3D-k_ngtdm_Busyness</th>\n",
       "      <th>lbp-3D-k_ngtdm_Coarseness</th>\n",
       "      <th>lbp-3D-k_ngtdm_Complexity</th>\n",
       "      <th>lbp-3D-k_ngtdm_Contrast</th>\n",
       "      <th>lbp-3D-k_ngtdm_Strength</th>\n",
       "    </tr>\n",
       "  </thead>\n",
       "  <tbody>\n",
       "    <tr>\n",
       "      <th>38</th>\n",
       "      <td>029_S_0845</td>\n",
       "      <td>/notebooks/disk2/DS2_FreeSurfer/ADNI_029_S_084...</td>\n",
       "      <td>/notebooks/disk2/DS2_FreeSurfer/ADNI_029_S_084...</td>\n",
       "      <td>2.2.0</td>\n",
       "      <td>1.18.5</td>\n",
       "      <td>1.2.4</td>\n",
       "      <td>1.1.1</td>\n",
       "      <td>3.7.7</td>\n",
       "      <td>{'minimumROIDimensions': 2, 'minimumROISize': ...</td>\n",
       "      <td>{'Original': {}, 'Wavelet': {}, 'LoG': {'sigma...</td>\n",
       "      <td>...</td>\n",
       "      <td>2.1098716814141043</td>\n",
       "      <td>0.15099964699943125</td>\n",
       "      <td>2.635973681866124</td>\n",
       "      <td>0.013980028530670471</td>\n",
       "      <td>110836.73885880884</td>\n",
       "      <td>73.91856267630193</td>\n",
       "      <td>0.0077226461780279055</td>\n",
       "      <td>0.07388832742831111</td>\n",
       "      <td>0.00288116096838359</td>\n",
       "      <td>0.007854267452094221</td>\n",
       "    </tr>\n",
       "    <tr>\n",
       "      <th>179</th>\n",
       "      <td>033_S_1283</td>\n",
       "      <td>/notebooks/disk2/DS2_FreeSurfer/ADNI_033_S_128...</td>\n",
       "      <td>/notebooks/disk2/DS2_FreeSurfer/ADNI_033_S_128...</td>\n",
       "      <td>2.2.0</td>\n",
       "      <td>1.18.5</td>\n",
       "      <td>1.2.4</td>\n",
       "      <td>1.1.1</td>\n",
       "      <td>3.7.7</td>\n",
       "      <td>{'minimumROIDimensions': 2, 'minimumROISize': ...</td>\n",
       "      <td>{'Original': {}, 'Wavelet': {}, 'LoG': {'sigma...</td>\n",
       "      <td>...</td>\n",
       "      <td>1.920379054372609</td>\n",
       "      <td>0.12002370574846277</td>\n",
       "      <td>2.8564648567476496</td>\n",
       "      <td>0.013426573426573427</td>\n",
       "      <td>107293.62456597222</td>\n",
       "      <td>171.53207338555535</td>\n",
       "      <td>0.0038912590221832394</td>\n",
       "      <td>0.14376852228322706</td>\n",
       "      <td>0.01058830029485949</td>\n",
       "      <td>0.00404940009610911</td>\n",
       "    </tr>\n",
       "    <tr>\n",
       "      <th>1</th>\n",
       "      <td>941_S_1203</td>\n",
       "      <td>/notebooks/disk2/DS2_FreeSurfer/ADNI_941_S_120...</td>\n",
       "      <td>/notebooks/disk2/DS2_FreeSurfer/ADNI_941_S_120...</td>\n",
       "      <td>2.2.0</td>\n",
       "      <td>1.18.5</td>\n",
       "      <td>1.2.4</td>\n",
       "      <td>1.1.1</td>\n",
       "      <td>3.7.7</td>\n",
       "      <td>{'minimumROIDimensions': 2, 'minimumROISize': ...</td>\n",
       "      <td>{'Original': {}, 'Wavelet': {}, 'LoG': {'sigma...</td>\n",
       "      <td>...</td>\n",
       "      <td>2.2333413480033752</td>\n",
       "      <td>0.15423228456942095</td>\n",
       "      <td>2.6120481027607694</td>\n",
       "      <td>0.019698368728839642</td>\n",
       "      <td>68991.67944335938</td>\n",
       "      <td>128.90666524797493</td>\n",
       "      <td>0.004884550861504729</td>\n",
       "      <td>0.12602469300250174</td>\n",
       "      <td>0.007873671078292746</td>\n",
       "      <td>0.004997782823645381</td>\n",
       "    </tr>\n",
       "  </tbody>\n",
       "</table>\n",
       "<p>3 rows × 2178 columns</p>\n",
       "</div>"
      ],
      "text/plain": [
       "             ID                                              Image  \\\n",
       "38   029_S_0845  /notebooks/disk2/DS2_FreeSurfer/ADNI_029_S_084...   \n",
       "179  033_S_1283  /notebooks/disk2/DS2_FreeSurfer/ADNI_033_S_128...   \n",
       "1    941_S_1203  /notebooks/disk2/DS2_FreeSurfer/ADNI_941_S_120...   \n",
       "\n",
       "                                                  Mask  \\\n",
       "38   /notebooks/disk2/DS2_FreeSurfer/ADNI_029_S_084...   \n",
       "179  /notebooks/disk2/DS2_FreeSurfer/ADNI_033_S_128...   \n",
       "1    /notebooks/disk2/DS2_FreeSurfer/ADNI_941_S_120...   \n",
       "\n",
       "    diagnostics_Versions_PyRadiomics diagnostics_Versions_Numpy  \\\n",
       "38                             2.2.0                     1.18.5   \n",
       "179                            2.2.0                     1.18.5   \n",
       "1                              2.2.0                     1.18.5   \n",
       "\n",
       "    diagnostics_Versions_SimpleITK diagnostics_Versions_PyWavelet  \\\n",
       "38                           1.2.4                          1.1.1   \n",
       "179                          1.2.4                          1.1.1   \n",
       "1                            1.2.4                          1.1.1   \n",
       "\n",
       "    diagnostics_Versions_Python  \\\n",
       "38                        3.7.7   \n",
       "179                       3.7.7   \n",
       "1                         3.7.7   \n",
       "\n",
       "                    diagnostics_Configuration_Settings  \\\n",
       "38   {'minimumROIDimensions': 2, 'minimumROISize': ...   \n",
       "179  {'minimumROIDimensions': 2, 'minimumROISize': ...   \n",
       "1    {'minimumROIDimensions': 2, 'minimumROISize': ...   \n",
       "\n",
       "           diagnostics_Configuration_EnabledImageTypes  ...  \\\n",
       "38   {'Original': {}, 'Wavelet': {}, 'LoG': {'sigma...  ...   \n",
       "179  {'Original': {}, 'Wavelet': {}, 'LoG': {'sigma...  ...   \n",
       "1    {'Original': {}, 'Wavelet': {}, 'LoG': {'sigma...  ...   \n",
       "\n",
       "    lbp-3D-k_glszm_SmallAreaHighGrayLevelEmphasis  \\\n",
       "38                             2.1098716814141043   \n",
       "179                             1.920379054372609   \n",
       "1                              2.2333413480033752   \n",
       "\n",
       "    lbp-3D-k_glszm_SmallAreaLowGrayLevelEmphasis lbp-3D-k_glszm_ZoneEntropy  \\\n",
       "38                           0.15099964699943125          2.635973681866124   \n",
       "179                          0.12002370574846277         2.8564648567476496   \n",
       "1                            0.15423228456942095         2.6120481027607694   \n",
       "\n",
       "    lbp-3D-k_glszm_ZonePercentage  lbp-3D-k_glszm_ZoneVariance  \\\n",
       "38           0.013980028530670471           110836.73885880884   \n",
       "179          0.013426573426573427           107293.62456597222   \n",
       "1            0.019698368728839642            68991.67944335938   \n",
       "\n",
       "     lbp-3D-k_ngtdm_Busyness  lbp-3D-k_ngtdm_Coarseness  \\\n",
       "38         73.91856267630193      0.0077226461780279055   \n",
       "179       171.53207338555535      0.0038912590221832394   \n",
       "1         128.90666524797493       0.004884550861504729   \n",
       "\n",
       "    lbp-3D-k_ngtdm_Complexity lbp-3D-k_ngtdm_Contrast lbp-3D-k_ngtdm_Strength  \n",
       "38        0.07388832742831111     0.00288116096838359    0.007854267452094221  \n",
       "179       0.14376852228322706     0.01058830029485949     0.00404940009610911  \n",
       "1         0.12602469300250174    0.007873671078292746    0.004997782823645381  \n",
       "\n",
       "[3 rows x 2178 columns]"
      ]
     },
     "execution_count": 57,
     "metadata": {},
     "output_type": "execute_result"
    }
   ],
   "source": [
    "def cria_CSV_radiomics_all(PATH_CSV_RADIOMICS_ALL,all_df):\n",
    "    full_df = pd.DataFrame([dict(**c_row.pop('radiomics'), **c_row) for _, c_row in all_df.iterrows()])\n",
    "    print(full_df.shape, 'data prepared')\n",
    "    first_cols = all_df.columns[:-1].tolist()\n",
    "    full_df = full_df[first_cols + [c_col for c_col in full_df.columns if c_col not in first_cols]]\n",
    "    # export the whole table\n",
    "    full_df.to_csv('D1.all_radiomics_entorhinal.csv', index=False)\n",
    "    return full_df\n",
    "    full_df.sample(3)\n",
    "\n",
    "full_df=cria_CSV_radiomics_all(PATH_CSV_RADIOMICS_ALL, all_df)\n",
    "full_df.sample(3)"
   ]
  },
  {
   "cell_type": "code",
   "execution_count": null,
   "metadata": {},
   "outputs": [],
   "source": []
  }
 ],
 "metadata": {
  "kernelspec": {
   "display_name": "Python 3",
   "language": "python",
   "name": "python3"
  },
  "language_info": {
   "codemirror_mode": {
    "name": "ipython",
    "version": 3
   },
   "file_extension": ".py",
   "mimetype": "text/x-python",
   "name": "python",
   "nbconvert_exporter": "python",
   "pygments_lexer": "ipython3",
   "version": "3.7.7"
  }
 },
 "nbformat": 4,
 "nbformat_minor": 4
}
