{
 "cells": [
  {
   "cell_type": "code",
   "execution_count": 1,
   "metadata": {},
   "outputs": [],
   "source": [
    "#imports random\n",
    "import os\n",
    "import glob\n",
    "#from livelossplot import PlotLosses\n",
    "import math\n",
    "import shutil\n",
    "\n",
    "import numpy as np\n",
    "#from nilearn import plotting\n",
    "import matplotlib.pyplot as plt\n",
    "import nibabel as nib\n",
    "\n",
    "#import torch\n",
    "import torch\n",
    "import torch.nn as nn\n",
    "#from torchsummary import summary\n",
    "import torch.optim as optim\n",
    "from ipywidgets import widgets, interact"
   ]
  },
  {
   "cell_type": "code",
   "execution_count": 2,
   "metadata": {},
   "outputs": [],
   "source": [
    "DEBUG = True\n",
    "\n",
    "#device\n",
    "device = torch.device(\"cuda:0\")\n",
    "#device = torch.device(\"cpu\")\n",
    "\n",
    "#Determinism\n",
    "#np.random.seed(12345678)\n",
    "set_determinism(seed=12345678)\n",
    "RSEED = 12345678\n",
    "\n",
    "#Paths\n",
    "DATA_DIR = 'DS1_scans/*'\n",
    "\n",
    "#Dataset and Dataloader\n",
    " \n",
    "NUM_WORKERS= 0\n",
    "BATCH_SIZE= 2\n",
    "SHUFFLE= True\n",
    "\n",
    "#training\n",
    "#MAX_EPOCHS = 100\n",
    "LEARNING_RATE = 1e-4 #0.01 \n",
    "WEIGHT_DECAY= 1e-5\n",
    "MOMENTUM= 0.95\n",
    "VAL_INTERVAL = 1  # do validation for every epoch"
   ]
  },
  {
   "cell_type": "code",
   "execution_count": 3,
   "metadata": {},
   "outputs": [],
   "source": [
    "def percorrePasta(pasta):\n",
    "    files = []\n",
    "    for f in glob.glob(pasta):\n",
    "        if(os.path.isdir(f + \"/\")):\n",
    "            f = f + \"/*\"\n",
    "            files += percorrePasta(f)\n",
    "        else:\n",
    "            if(os.path.splitext(f)[1] == \".gz\" ):\n",
    "                files += [f]\n",
    "    return files\n",
    "\n",
    "def separaMasks(arr):\n",
    "    masks = []\n",
    "    scans = []\n",
    "    for f in arr:\n",
    "        if \"generate\" in f :\n",
    "            if \"mask\" in f :\n",
    "                masks += [f]\n",
    "            else:\n",
    "                scans += [f]\n",
    "    return {\"masks\": masks, \"scans\": scans}\n",
    "\n",
    "ficheirosTodos = percorrePasta('./DS1_scans/')\n",
    "arr = separaMasks(ficheirosTodos)\n",
    "#str1 = '\\n'.join(arr)\n",
    "#print (str1)\n",
    "#print(arr[\"masks\"])"
   ]
  },
  {
   "cell_type": "code",
   "execution_count": 4,
   "metadata": {},
   "outputs": [
    {
     "name": "stdout",
     "output_type": "stream",
     "text": [
      "nº total de imagens:  852\n",
      "nº casos de treino:  681\n",
      "nº casos de validação:  171\n"
     ]
    }
   ],
   "source": [
    "def paths(arr):\n",
    "    scans=[]\n",
    "    masks=[]\n",
    "    train_scans_files = arr[\"scans\"]\n",
    "    train_masks_files = arr[\"masks\"]\n",
    "    \n",
    "    train_scans, val_scans, train_masks, val_masks = train_test_split(train_scans_files, train_masks_files, test_size = 0.2, random_state = 42)\n",
    "    \n",
    "    train_set = [\n",
    "        {\"scan\": image_name, \"mask\": label_name}\n",
    "        for image_name, label_name in zip(train_scans, train_masks)\n",
    "    ]\n",
    "    \n",
    "    val_set = [\n",
    "        {\"scan\": image_name, \"mask\": label_name}\n",
    "        for image_name, label_name in zip(val_scans, val_masks)\n",
    "    ]\n",
    "    \n",
    "    train_set, val_set = train_set[:6], val_set[-6:]\n",
    "   \n",
    "    print(\"nº total de imagens: \", len(train_scans_files))\n",
    "    print(\"nº casos de treino: \", len(train_scans))\n",
    "    print(\"nº casos de validação: \", len(val_scans))\n",
    "   \n",
    "    \n",
    "    \n",
    "    return train_scans_files, train_masks_files, train_scans, val_scans, train_masks, val_masks, train_set, val_set\n",
    "train_scans_files, train_masks_files, train_scans, val_scans, train_masks, val_masks, train_set, val_set=paths(arr)"
   ]
  },
  {
   "cell_type": "code",
   "execution_count": 5,
   "metadata": {},
   "outputs": [],
   "source": [
    "def transforms():\n",
    "   \n",
    "    train_transform = Compose(\n",
    "        [\n",
    "            LoadImaged(keys=[\"scan\", \"mask\"]),\n",
    "            AddChanneld(keys=[\"scan\", \"mask\"]),\n",
    "            Rotate90d(keys=[\"scan\", \"mask\"], k=1,  spatial_axes=(0, 1)),\n",
    "            \n",
    "            \n",
    "            #ScaleIntensityd(keys=[\"scan\"], minv=0.0, maxv=1.0, factor=None),\n",
    "            #ScaleIntensityRanged(keys=[\"scan\"], a_min=-20, a_max=120, b_min=0.0, b_max=1.0, clip=True),  \n",
    "            #CenterSpatialCropd(keys=[\"scan\", \"mask\"], roi_size=[160, 160, 160]),\n",
    "            #CenterSpatialCropd(keys=[\"scan\", \"mask\"], roi_size=[224, 224, 224]),\n",
    "            ToTensord(keys=[\"scan\", \"mask\"]),\n",
    "        ]\n",
    "    )\n",
    "    proc_transform = Compose(\n",
    "        [\n",
    "            LoadImaged(keys=[\"scan\", \"mask\"]),\n",
    "            AddChanneld(keys=[\"scan\", \"mask\"]),\n",
    "            Rotate90d(keys=[\"scan\", \"mask\"], k=1,  spatial_axes=(0, 1)),\n",
    "            NormalizeIntensityd(keys=\"scan\", nonzero=True, channel_wise=False),\n",
    "            \n",
    "            #ScaleIntensityd(keys=[\"scan\"], minv=0.0, maxv=1.0, factor=None),\n",
    "            #ScaleIntensityRanged(keys=[\"scan\"], a_min=-20, a_max=120, b_min=0.0, b_max=1.0, clip=True),  \n",
    "            #CenterSpatialCropd(keys=[\"scan\", \"mask\"], roi_size=[160, 160, 160]),\n",
    "            #CenterSpatialCropd(keys=[\"scan\", \"mask\"], roi_size=[224, 224, 224]),\n",
    "            ToTensord(keys=[\"scan\", \"mask\"]),\n",
    "        ]\n",
    "    )\n",
    "    val_transform = Compose(\n",
    "        [\n",
    "            LoadImaged(keys=[\"scan\", \"mask\"]),\n",
    "            AddChanneld(keys=[\"scan\", \"mask\"]),\n",
    "            \n",
    "            #ScaleIntensityd(keys=[\"scan\"], minv=0.0, maxv=1.0, factor=None),\n",
    "            #ScaleIntensityRanged(keys=[\"scan\"], a_min=-20, a_max=120, b_min=0.0, b_max=1.0, clip=True),  \n",
    "            #CenterSpatialCropd(keys=[\"scan\", \"mask\"], roi_size=[160, 160, 160]),\n",
    "            #CenterSpatialCropd(keys=[\"scan\", \"mask\"], roi_size=[224,224, 224]), \n",
    "            ToTensord(keys=[\"scan\", \"mask\"]),\n",
    "       \n",
    "            \n",
    "        ]\n",
    "    )\n",
    "    \n",
    "    return train_transform, val_transform, proc_transform\n",
    "    \n",
    "\n",
    "train_transform, val_transform, proc_transform = transforms()"
   ]
  },
  {
   "cell_type": "code",
   "execution_count": 6,
   "metadata": {},
   "outputs": [],
   "source": [
    "def dataloader(train_files, train_transform, val_transform, val_files):\n",
    "    train_ds = Dataset(data=train_files, transform=train_transform)\n",
    "    train_loader = DataLoader(train_ds, batch_size=BATCH_SIZE, shuffle=SHUFFLE, num_workers=NUM_WORKERS)\n",
    "    val_ds = Dataset(data=val_files, transform=val_transform)\n",
    "    val_loader = DataLoader(val_ds, batch_size=BATCH_SIZE, num_workers=NUM_WORKERS)\n",
    "    dataloaders = {\"train\": train_loader, \"validation\": val_loader}\n",
    "\n",
    "    return train_ds, val_ds, train_loader, val_loader\n",
    "\n",
    "train_ds, val_ds, train_loader, val_loader = dataloader(train_set, train_transform, val_transform, val_set)"
   ]
  },
  {
   "cell_type": "code",
   "execution_count": 9,
   "metadata": {},
   "outputs": [
    {
     "data": {
      "application/vnd.jupyter.widget-view+json": {
       "model_id": "221051315b0d4fd595e2691936f07ab6",
       "version_major": 2,
       "version_minor": 0
      },
      "text/plain": [
       "interactive(children=(IntSlider(value=83, description='i', max=166), Output()), _dom_classes=('widget-interact…"
      ]
     },
     "metadata": {},
     "output_type": "display_data"
    }
   ],
   "source": [
    "@interact\n",
    "def check_transforms_train(i=(0,166)):\n",
    "\n",
    "    check_data = first(train_loader)\n",
    "    print(check_data[\"scan\"].shape)\n",
    "    #check_data = first(check_flip)\n",
    "    image, label = (check_data[\"scan\"][0][0], check_data[\"mask\"][0][0])\n",
    "    print(f\"image shape: {image.shape}, label shape: {label.shape}\")\n",
    "    #print ((label == 1).nonzero(as_tuple=True))\n",
    "    #print ((label == 2).nonzero(as_tuple=True))\n",
    "    #label1 = np.array(label)\n",
    "    #for i in range(len(label)):\n",
    "     #   if label1 == 1:\n",
    "      #      print(i)\n",
    "    # plot the slice [:, :, 80]\n",
    "    plt.figure(\"check\", (12, 6))\n",
    "    plt.subplot(1, 2, 1)\n",
    "    plt.title(\"image\")\n",
    "    plt.imshow(image[:, :, i], cmap=\"gray\")\n",
    "    #plt.imshow(image[:, :, 150], cmap=\"gray\")\n",
    "    plt.subplot(1, 2, 2)\n",
    "    plt.title(\"label\")\n",
    "    #plt.imshow(label[:, :, i])\n",
    "    plt.imshow(label[:, :, i])\n",
    "    plt.show()\n",
    "    \n",
    "   # return check_ds, check_loader, check_data\n",
    "\n",
    "#check_transforms_train()"
   ]
  },
  {
   "cell_type": "code",
   "execution_count": null,
   "metadata": {},
   "outputs": [],
   "source": []
  },
  {
   "cell_type": "code",
   "execution_count": null,
   "metadata": {},
   "outputs": [],
   "source": []
  }
 ],
 "metadata": {
  "kernelspec": {
   "display_name": "Python 3",
   "language": "python",
   "name": "python3"
  },
  "language_info": {
   "codemirror_mode": {
    "name": "ipython",
    "version": 3
   },
   "file_extension": ".py",
   "mimetype": "text/x-python",
   "name": "python",
   "nbconvert_exporter": "python",
   "pygments_lexer": "ipython3",
   "version": "3.7.7"
  }
 },
 "nbformat": 4,
 "nbformat_minor": 4
}
